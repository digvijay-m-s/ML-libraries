{
 "cells": [
  {
   "cell_type": "markdown",
   "id": "4697100e",
   "metadata": {},
   "source": [
    "# Pandas"
   ]
  },
  {
   "cell_type": "code",
   "execution_count": null,
   "id": "e575211b",
   "metadata": {},
   "outputs": [],
   "source": [
    "# Numpy ### when we deeal with numbers\n",
    "# pandas ### when we deal with data sets and data frames"
   ]
  },
  {
   "cell_type": "code",
   "execution_count": 25,
   "id": "19c975bf",
   "metadata": {},
   "outputs": [],
   "source": [
    "import pandas as pd"
   ]
  },
  {
   "cell_type": "markdown",
   "id": "81601759",
   "metadata": {},
   "source": [
    "### Series"
   ]
  },
  {
   "cell_type": "code",
   "execution_count": 8,
   "id": "c8d718c7",
   "metadata": {},
   "outputs": [
    {
     "data": {
      "text/plain": [
       "cricket       1\n",
       "football      2\n",
       "basketball    3\n",
       "golf          4\n",
       "dtype: int64"
      ]
     },
     "execution_count": 8,
     "metadata": {},
     "output_type": "execute_result"
    }
   ],
   "source": [
    "sports1=pd.Series([1,2,3,4],  index=['cricket','football','basketball','golf'])\n",
    "sports1\n",
    "\n",
    "###dtype is int"
   ]
  },
  {
   "cell_type": "code",
   "execution_count": null,
   "id": "e55791ae",
   "metadata": {},
   "outputs": [],
   "source": [
    "\n",
    "\n",
    "sports1=pd.Series([1,2,3,4],  index=['cricket','football','basketball','golf'])\n",
    "sports1\n",
    "\n",
    "###dtype is int"
   ]
  },
  {
   "cell_type": "code",
   "execution_count": 9,
   "id": "1c7aba05",
   "metadata": {},
   "outputs": [
    {
     "data": {
      "text/plain": [
       "3"
      ]
     },
     "execution_count": 9,
     "metadata": {},
     "output_type": "execute_result"
    }
   ],
   "source": [
    "sports1['basketball']"
   ]
  },
  {
   "cell_type": "code",
   "execution_count": 10,
   "id": "60a7f7ec",
   "metadata": {},
   "outputs": [
    {
     "data": {
      "text/plain": [
       "cricket     11\n",
       "baseball    13\n",
       "football    12\n",
       "golf         4\n",
       "dtype: int64"
      ]
     },
     "execution_count": 10,
     "metadata": {},
     "output_type": "execute_result"
    }
   ],
   "source": [
    "sports2=pd.Series([11,13,12,4],index=['cricket', 'baseball','football','golf'])\n",
    "sports2\n",
    "\n",
    "### dtype is int"
   ]
  },
  {
   "cell_type": "code",
   "execution_count": 12,
   "id": "78e99ea3",
   "metadata": {},
   "outputs": [
    {
     "data": {
      "text/plain": [
       "13"
      ]
     },
     "execution_count": 12,
     "metadata": {},
     "output_type": "execute_result"
    }
   ],
   "source": [
    "sports2['baseball']"
   ]
  },
  {
   "cell_type": "code",
   "execution_count": 11,
   "id": "be267f68",
   "metadata": {},
   "outputs": [
    {
     "data": {
      "text/plain": [
       "baseball       NaN\n",
       "basketball     NaN\n",
       "cricket       12.0\n",
       "football      14.0\n",
       "golf           8.0\n",
       "dtype: float64"
      ]
     },
     "execution_count": 11,
     "metadata": {},
     "output_type": "execute_result"
    }
   ],
   "source": [
    "sports1+sports2\n",
    "\n",
    "###arithmetic operators result is always float\n",
    "### dtype is float\n",
    "### NaN - Not a Number"
   ]
  },
  {
   "cell_type": "markdown",
   "id": "f0004116",
   "metadata": {},
   "source": [
    "### Dataframe"
   ]
  },
  {
   "cell_type": "code",
   "execution_count": 24,
   "id": "53354b56",
   "metadata": {},
   "outputs": [],
   "source": [
    "import numpy as np"
   ]
  },
  {
   "cell_type": "code",
   "execution_count": 18,
   "id": "419e58ec",
   "metadata": {},
   "outputs": [
    {
     "data": {
      "text/html": [
       "<div>\n",
       "<style scoped>\n",
       "    .dataframe tbody tr th:only-of-type {\n",
       "        vertical-align: middle;\n",
       "    }\n",
       "\n",
       "    .dataframe tbody tr th {\n",
       "        vertical-align: top;\n",
       "    }\n",
       "\n",
       "    .dataframe thead th {\n",
       "        text-align: right;\n",
       "    }\n",
       "</style>\n",
       "<table border=\"1\" class=\"dataframe\">\n",
       "  <thead>\n",
       "    <tr style=\"text-align: right;\">\n",
       "      <th></th>\n",
       "      <th>ID</th>\n",
       "      <th>Name</th>\n",
       "      <th>Profit</th>\n",
       "    </tr>\n",
       "  </thead>\n",
       "  <tbody>\n",
       "    <tr>\n",
       "      <th>0</th>\n",
       "      <td>101</td>\n",
       "      <td>John</td>\n",
       "      <td>20</td>\n",
       "    </tr>\n",
       "    <tr>\n",
       "      <th>1</th>\n",
       "      <td>102</td>\n",
       "      <td>Mercy</td>\n",
       "      <td>54</td>\n",
       "    </tr>\n",
       "    <tr>\n",
       "      <th>2</th>\n",
       "      <td>103</td>\n",
       "      <td>Akash</td>\n",
       "      <td>56</td>\n",
       "    </tr>\n",
       "    <tr>\n",
       "      <th>3</th>\n",
       "      <td>107</td>\n",
       "      <td>Kavin</td>\n",
       "      <td>87</td>\n",
       "    </tr>\n",
       "    <tr>\n",
       "      <th>4</th>\n",
       "      <td>176</td>\n",
       "      <td>Lally</td>\n",
       "      <td>123</td>\n",
       "    </tr>\n",
       "  </tbody>\n",
       "</table>\n",
       "</div>"
      ],
      "text/plain": [
       "    ID   Name  Profit\n",
       "0  101   John      20\n",
       "1  102  Mercy      54\n",
       "2  103  Akash      56\n",
       "3  107  Kavin      87\n",
       "4  176  Lally     123"
      ]
     },
     "execution_count": 18,
     "metadata": {},
     "output_type": "execute_result"
    }
   ],
   "source": [
    "df2={'ID':[101,102,103,107,176], 'Name':['John','Mercy','Akash','Kavin','Lally'],'Profit':[20,54,56,87,123]}\n",
    "df=pd.DataFrame(df2)\n",
    "df"
   ]
  },
  {
   "cell_type": "code",
   "execution_count": null,
   "id": "19571675",
   "metadata": {},
   "outputs": [],
   "source": []
  },
  {
   "cell_type": "code",
   "execution_count": null,
   "id": "2406a856",
   "metadata": {},
   "outputs": [],
   "source": []
  },
  {
   "cell_type": "code",
   "execution_count": 19,
   "id": "65d1b23c",
   "metadata": {},
   "outputs": [
    {
     "data": {
      "text/html": [
       "<div>\n",
       "<style scoped>\n",
       "    .dataframe tbody tr th:only-of-type {\n",
       "        vertical-align: middle;\n",
       "    }\n",
       "\n",
       "    .dataframe tbody tr th {\n",
       "        vertical-align: top;\n",
       "    }\n",
       "\n",
       "    .dataframe thead th {\n",
       "        text-align: right;\n",
       "    }\n",
       "</style>\n",
       "<table border=\"1\" class=\"dataframe\">\n",
       "  <thead>\n",
       "    <tr style=\"text-align: right;\">\n",
       "      <th></th>\n",
       "      <th>Name</th>\n",
       "      <th>Profit</th>\n",
       "    </tr>\n",
       "  </thead>\n",
       "  <tbody>\n",
       "    <tr>\n",
       "      <th>0</th>\n",
       "      <td>John</td>\n",
       "      <td>20</td>\n",
       "    </tr>\n",
       "    <tr>\n",
       "      <th>1</th>\n",
       "      <td>Mercy</td>\n",
       "      <td>54</td>\n",
       "    </tr>\n",
       "    <tr>\n",
       "      <th>2</th>\n",
       "      <td>Akash</td>\n",
       "      <td>56</td>\n",
       "    </tr>\n",
       "    <tr>\n",
       "      <th>3</th>\n",
       "      <td>Kavin</td>\n",
       "      <td>87</td>\n",
       "    </tr>\n",
       "    <tr>\n",
       "      <th>4</th>\n",
       "      <td>Lally</td>\n",
       "      <td>123</td>\n",
       "    </tr>\n",
       "  </tbody>\n",
       "</table>\n",
       "</div>"
      ],
      "text/plain": [
       "    Name  Profit\n",
       "0   John      20\n",
       "1  Mercy      54\n",
       "2  Akash      56\n",
       "3  Kavin      87\n",
       "4  Lally     123"
      ]
     },
     "execution_count": 19,
     "metadata": {},
     "output_type": "execute_result"
    }
   ],
   "source": [
    "df.drop('ID',axis=1)\n",
    "\n",
    "## whenever we use function use ()\n",
    "## if we want to drop a colun always mention axis=1\n",
    "### when axis is 1 then it checks for the name in the column names\n",
    "## by default when .drop() is used it checks for rows and not columns\n",
    "### it only checks for column when the axis=1"
   ]
  },
  {
   "cell_type": "code",
   "execution_count": 20,
   "id": "dec7fcc7",
   "metadata": {},
   "outputs": [
    {
     "data": {
      "text/plain": [
       "0     John\n",
       "1    Mercy\n",
       "2    Akash\n",
       "3    Kavin\n",
       "4    Lally\n",
       "Name: Name, dtype: object"
      ]
     },
     "execution_count": 20,
     "metadata": {},
     "output_type": "execute_result"
    }
   ],
   "source": [
    "df['Name']\n",
    "\n",
    "## whenever we slice the table its []"
   ]
  },
  {
   "cell_type": "code",
   "execution_count": null,
   "id": "e5dc7fdd",
   "metadata": {},
   "outputs": [],
   "source": []
  },
  {
   "cell_type": "code",
   "execution_count": 26,
   "id": "d65b9d3d",
   "metadata": {},
   "outputs": [
    {
     "data": {
      "text/html": [
       "<div>\n",
       "<style scoped>\n",
       "    .dataframe tbody tr th:only-of-type {\n",
       "        vertical-align: middle;\n",
       "    }\n",
       "\n",
       "    .dataframe tbody tr th {\n",
       "        vertical-align: top;\n",
       "    }\n",
       "\n",
       "    .dataframe thead th {\n",
       "        text-align: right;\n",
       "    }\n",
       "</style>\n",
       "<table border=\"1\" class=\"dataframe\">\n",
       "  <thead>\n",
       "    <tr style=\"text-align: right;\">\n",
       "      <th></th>\n",
       "      <th>Name</th>\n",
       "      <th>ID</th>\n",
       "    </tr>\n",
       "  </thead>\n",
       "  <tbody>\n",
       "    <tr>\n",
       "      <th>0</th>\n",
       "      <td>John</td>\n",
       "      <td>101</td>\n",
       "    </tr>\n",
       "    <tr>\n",
       "      <th>1</th>\n",
       "      <td>Mercy</td>\n",
       "      <td>102</td>\n",
       "    </tr>\n",
       "    <tr>\n",
       "      <th>2</th>\n",
       "      <td>Akash</td>\n",
       "      <td>103</td>\n",
       "    </tr>\n",
       "    <tr>\n",
       "      <th>3</th>\n",
       "      <td>Kavin</td>\n",
       "      <td>107</td>\n",
       "    </tr>\n",
       "    <tr>\n",
       "      <th>4</th>\n",
       "      <td>Lally</td>\n",
       "      <td>176</td>\n",
       "    </tr>\n",
       "  </tbody>\n",
       "</table>\n",
       "</div>"
      ],
      "text/plain": [
       "    Name   ID\n",
       "0   John  101\n",
       "1  Mercy  102\n",
       "2  Akash  103\n",
       "3  Kavin  107\n",
       "4  Lally  176"
      ]
     },
     "execution_count": 26,
     "metadata": {},
     "output_type": "execute_result"
    }
   ],
   "source": [
    "### for multiple elements always use double [[]]\n",
    "\n",
    "df[['Name','ID']] "
   ]
  },
  {
   "cell_type": "code",
   "execution_count": 34,
   "id": "da763d11",
   "metadata": {},
   "outputs": [
    {
     "data": {
      "text/html": [
       "<div>\n",
       "<style scoped>\n",
       "    .dataframe tbody tr th:only-of-type {\n",
       "        vertical-align: middle;\n",
       "    }\n",
       "\n",
       "    .dataframe tbody tr th {\n",
       "        vertical-align: top;\n",
       "    }\n",
       "\n",
       "    .dataframe thead th {\n",
       "        text-align: right;\n",
       "    }\n",
       "</style>\n",
       "<table border=\"1\" class=\"dataframe\">\n",
       "  <thead>\n",
       "    <tr style=\"text-align: right;\">\n",
       "      <th></th>\n",
       "      <th>ID</th>\n",
       "      <th>Name</th>\n",
       "      <th>Profit</th>\n",
       "    </tr>\n",
       "  </thead>\n",
       "  <tbody>\n",
       "    <tr>\n",
       "      <th>0</th>\n",
       "      <td>101</td>\n",
       "      <td>John</td>\n",
       "      <td>20</td>\n",
       "    </tr>\n",
       "    <tr>\n",
       "      <th>1</th>\n",
       "      <td>102</td>\n",
       "      <td>Mercy</td>\n",
       "      <td>54</td>\n",
       "    </tr>\n",
       "    <tr>\n",
       "      <th>2</th>\n",
       "      <td>103</td>\n",
       "      <td>Akash</td>\n",
       "      <td>56</td>\n",
       "    </tr>\n",
       "    <tr>\n",
       "      <th>4</th>\n",
       "      <td>176</td>\n",
       "      <td>Lally</td>\n",
       "      <td>123</td>\n",
       "    </tr>\n",
       "  </tbody>\n",
       "</table>\n",
       "</div>"
      ],
      "text/plain": [
       "    ID   Name  Profit\n",
       "0  101   John      20\n",
       "1  102  Mercy      54\n",
       "2  103  Akash      56\n",
       "4  176  Lally     123"
      ]
     },
     "execution_count": 34,
     "metadata": {},
     "output_type": "execute_result"
    }
   ],
   "source": [
    "df.drop(3)\n",
    "\n",
    "### here the axis arguement is not required as we want to drop a row"
   ]
  },
  {
   "cell_type": "code",
   "execution_count": 35,
   "id": "e191203e",
   "metadata": {},
   "outputs": [
    {
     "data": {
      "text/html": [
       "<div>\n",
       "<style scoped>\n",
       "    .dataframe tbody tr th:only-of-type {\n",
       "        vertical-align: middle;\n",
       "    }\n",
       "\n",
       "    .dataframe tbody tr th {\n",
       "        vertical-align: top;\n",
       "    }\n",
       "\n",
       "    .dataframe thead th {\n",
       "        text-align: right;\n",
       "    }\n",
       "</style>\n",
       "<table border=\"1\" class=\"dataframe\">\n",
       "  <thead>\n",
       "    <tr style=\"text-align: right;\">\n",
       "      <th></th>\n",
       "      <th>ID</th>\n",
       "      <th>Name</th>\n",
       "      <th>Profit</th>\n",
       "    </tr>\n",
       "  </thead>\n",
       "  <tbody>\n",
       "    <tr>\n",
       "      <th>0</th>\n",
       "      <td>101</td>\n",
       "      <td>John</td>\n",
       "      <td>20</td>\n",
       "    </tr>\n",
       "    <tr>\n",
       "      <th>1</th>\n",
       "      <td>102</td>\n",
       "      <td>Mercy</td>\n",
       "      <td>54</td>\n",
       "    </tr>\n",
       "    <tr>\n",
       "      <th>2</th>\n",
       "      <td>103</td>\n",
       "      <td>Akash</td>\n",
       "      <td>56</td>\n",
       "    </tr>\n",
       "    <tr>\n",
       "      <th>3</th>\n",
       "      <td>107</td>\n",
       "      <td>Kavin</td>\n",
       "      <td>87</td>\n",
       "    </tr>\n",
       "    <tr>\n",
       "      <th>4</th>\n",
       "      <td>176</td>\n",
       "      <td>Lally</td>\n",
       "      <td>123</td>\n",
       "    </tr>\n",
       "  </tbody>\n",
       "</table>\n",
       "</div>"
      ],
      "text/plain": [
       "    ID   Name  Profit\n",
       "0  101   John      20\n",
       "1  102  Mercy      54\n",
       "2  103  Akash      56\n",
       "3  107  Kavin      87\n",
       "4  176  Lally     123"
      ]
     },
     "execution_count": 35,
     "metadata": {},
     "output_type": "execute_result"
    }
   ],
   "source": [
    "df"
   ]
  },
  {
   "cell_type": "code",
   "execution_count": 44,
   "id": "58bec25f",
   "metadata": {},
   "outputs": [],
   "source": [
    "dm= df.drop('ID',axis=1)"
   ]
  },
  {
   "cell_type": "code",
   "execution_count": 42,
   "id": "4ce755e0",
   "metadata": {},
   "outputs": [
    {
     "data": {
      "text/html": [
       "<div>\n",
       "<style scoped>\n",
       "    .dataframe tbody tr th:only-of-type {\n",
       "        vertical-align: middle;\n",
       "    }\n",
       "\n",
       "    .dataframe tbody tr th {\n",
       "        vertical-align: top;\n",
       "    }\n",
       "\n",
       "    .dataframe thead th {\n",
       "        text-align: right;\n",
       "    }\n",
       "</style>\n",
       "<table border=\"1\" class=\"dataframe\">\n",
       "  <thead>\n",
       "    <tr style=\"text-align: right;\">\n",
       "      <th></th>\n",
       "      <th>ID</th>\n",
       "      <th>Name</th>\n",
       "      <th>Profit</th>\n",
       "    </tr>\n",
       "  </thead>\n",
       "  <tbody>\n",
       "    <tr>\n",
       "      <th>0</th>\n",
       "      <td>101</td>\n",
       "      <td>John</td>\n",
       "      <td>20</td>\n",
       "    </tr>\n",
       "    <tr>\n",
       "      <th>1</th>\n",
       "      <td>102</td>\n",
       "      <td>Mercy</td>\n",
       "      <td>54</td>\n",
       "    </tr>\n",
       "    <tr>\n",
       "      <th>2</th>\n",
       "      <td>103</td>\n",
       "      <td>Akash</td>\n",
       "      <td>56</td>\n",
       "    </tr>\n",
       "    <tr>\n",
       "      <th>3</th>\n",
       "      <td>107</td>\n",
       "      <td>Kavin</td>\n",
       "      <td>87</td>\n",
       "    </tr>\n",
       "    <tr>\n",
       "      <th>4</th>\n",
       "      <td>176</td>\n",
       "      <td>Lally</td>\n",
       "      <td>123</td>\n",
       "    </tr>\n",
       "  </tbody>\n",
       "</table>\n",
       "</div>"
      ],
      "text/plain": [
       "    ID   Name  Profit\n",
       "0  101   John      20\n",
       "1  102  Mercy      54\n",
       "2  103  Akash      56\n",
       "3  107  Kavin      87\n",
       "4  176  Lally     123"
      ]
     },
     "execution_count": 42,
     "metadata": {},
     "output_type": "execute_result"
    }
   ],
   "source": [
    "df"
   ]
  },
  {
   "cell_type": "code",
   "execution_count": 43,
   "id": "311c1cf8",
   "metadata": {},
   "outputs": [
    {
     "data": {
      "text/html": [
       "<div>\n",
       "<style scoped>\n",
       "    .dataframe tbody tr th:only-of-type {\n",
       "        vertical-align: middle;\n",
       "    }\n",
       "\n",
       "    .dataframe tbody tr th {\n",
       "        vertical-align: top;\n",
       "    }\n",
       "\n",
       "    .dataframe thead th {\n",
       "        text-align: right;\n",
       "    }\n",
       "</style>\n",
       "<table border=\"1\" class=\"dataframe\">\n",
       "  <thead>\n",
       "    <tr style=\"text-align: right;\">\n",
       "      <th></th>\n",
       "      <th>Name</th>\n",
       "      <th>Profit</th>\n",
       "    </tr>\n",
       "  </thead>\n",
       "  <tbody>\n",
       "    <tr>\n",
       "      <th>0</th>\n",
       "      <td>John</td>\n",
       "      <td>20</td>\n",
       "    </tr>\n",
       "    <tr>\n",
       "      <th>1</th>\n",
       "      <td>Mercy</td>\n",
       "      <td>54</td>\n",
       "    </tr>\n",
       "    <tr>\n",
       "      <th>2</th>\n",
       "      <td>Akash</td>\n",
       "      <td>56</td>\n",
       "    </tr>\n",
       "    <tr>\n",
       "      <th>3</th>\n",
       "      <td>Kavin</td>\n",
       "      <td>87</td>\n",
       "    </tr>\n",
       "    <tr>\n",
       "      <th>4</th>\n",
       "      <td>Lally</td>\n",
       "      <td>123</td>\n",
       "    </tr>\n",
       "  </tbody>\n",
       "</table>\n",
       "</div>"
      ],
      "text/plain": [
       "    Name  Profit\n",
       "0   John      20\n",
       "1  Mercy      54\n",
       "2  Akash      56\n",
       "3  Kavin      87\n",
       "4  Lally     123"
      ]
     },
     "execution_count": 43,
     "metadata": {},
     "output_type": "execute_result"
    }
   ],
   "source": [
    "dm"
   ]
  },
  {
   "cell_type": "code",
   "execution_count": 27,
   "id": "930a3f99",
   "metadata": {
    "scrolled": true
   },
   "outputs": [
    {
     "data": {
      "text/html": [
       "<div>\n",
       "<style scoped>\n",
       "    .dataframe tbody tr th:only-of-type {\n",
       "        vertical-align: middle;\n",
       "    }\n",
       "\n",
       "    .dataframe tbody tr th {\n",
       "        vertical-align: top;\n",
       "    }\n",
       "\n",
       "    .dataframe thead th {\n",
       "        text-align: right;\n",
       "    }\n",
       "</style>\n",
       "<table border=\"1\" class=\"dataframe\">\n",
       "  <thead>\n",
       "    <tr style=\"text-align: right;\">\n",
       "      <th></th>\n",
       "      <th>Score1</th>\n",
       "      <th>Score2</th>\n",
       "      <th>Score3</th>\n",
       "      <th>Score4</th>\n",
       "      <th>Score5</th>\n",
       "    </tr>\n",
       "  </thead>\n",
       "  <tbody>\n",
       "    <tr>\n",
       "      <th>A</th>\n",
       "      <td>0.220259</td>\n",
       "      <td>0.245053</td>\n",
       "      <td>0.056936</td>\n",
       "      <td>0.319277</td>\n",
       "      <td>0.528530</td>\n",
       "    </tr>\n",
       "    <tr>\n",
       "      <th>B</th>\n",
       "      <td>0.788291</td>\n",
       "      <td>0.141363</td>\n",
       "      <td>0.542390</td>\n",
       "      <td>0.671473</td>\n",
       "      <td>0.814983</td>\n",
       "    </tr>\n",
       "    <tr>\n",
       "      <th>C</th>\n",
       "      <td>0.340005</td>\n",
       "      <td>0.842388</td>\n",
       "      <td>0.852474</td>\n",
       "      <td>0.972193</td>\n",
       "      <td>0.447404</td>\n",
       "    </tr>\n",
       "    <tr>\n",
       "      <th>D</th>\n",
       "      <td>0.726933</td>\n",
       "      <td>0.790302</td>\n",
       "      <td>0.521901</td>\n",
       "      <td>0.782036</td>\n",
       "      <td>0.520433</td>\n",
       "    </tr>\n",
       "    <tr>\n",
       "      <th>E</th>\n",
       "      <td>0.026630</td>\n",
       "      <td>0.100251</td>\n",
       "      <td>0.167408</td>\n",
       "      <td>0.545108</td>\n",
       "      <td>0.182429</td>\n",
       "    </tr>\n",
       "    <tr>\n",
       "      <th>F</th>\n",
       "      <td>0.577794</td>\n",
       "      <td>0.350579</td>\n",
       "      <td>0.663217</td>\n",
       "      <td>0.129456</td>\n",
       "      <td>0.730906</td>\n",
       "    </tr>\n",
       "    <tr>\n",
       "      <th>G</th>\n",
       "      <td>0.645256</td>\n",
       "      <td>0.740533</td>\n",
       "      <td>0.402918</td>\n",
       "      <td>0.528236</td>\n",
       "      <td>0.745698</td>\n",
       "    </tr>\n",
       "    <tr>\n",
       "      <th>H</th>\n",
       "      <td>0.641171</td>\n",
       "      <td>0.406179</td>\n",
       "      <td>0.384770</td>\n",
       "      <td>0.124535</td>\n",
       "      <td>0.751422</td>\n",
       "    </tr>\n",
       "  </tbody>\n",
       "</table>\n",
       "</div>"
      ],
      "text/plain": [
       "     Score1    Score2    Score3    Score4    Score5\n",
       "A  0.220259  0.245053  0.056936  0.319277  0.528530\n",
       "B  0.788291  0.141363  0.542390  0.671473  0.814983\n",
       "C  0.340005  0.842388  0.852474  0.972193  0.447404\n",
       "D  0.726933  0.790302  0.521901  0.782036  0.520433\n",
       "E  0.026630  0.100251  0.167408  0.545108  0.182429\n",
       "F  0.577794  0.350579  0.663217  0.129456  0.730906\n",
       "G  0.645256  0.740533  0.402918  0.528236  0.745698\n",
       "H  0.641171  0.406179  0.384770  0.124535  0.751422"
      ]
     },
     "execution_count": 27,
     "metadata": {},
     "output_type": "execute_result"
    }
   ],
   "source": [
    "df1=pd.DataFrame(np.random.rand(8,5), index='A B C D E F G H'.split(), columns='Score1 Score2 Score3 Score4 Score5'.split())\n",
    "df1\n",
    "\n",
    "### we use .split() to split all the rows and column names\n",
    "### make sure you run numpy library as well\n"
   ]
  },
  {
   "cell_type": "code",
   "execution_count": 28,
   "id": "a3de81f6",
   "metadata": {},
   "outputs": [
    {
     "data": {
      "text/plain": [
       "A    0.056936\n",
       "B    0.542390\n",
       "C    0.852474\n",
       "D    0.521901\n",
       "E    0.167408\n",
       "F    0.663217\n",
       "G    0.402918\n",
       "H    0.384770\n",
       "Name: Score3, dtype: float64"
      ]
     },
     "execution_count": 28,
     "metadata": {},
     "output_type": "execute_result"
    }
   ],
   "source": [
    "df1['Score3']\n",
    "\n",
    "### when we need a specific column this is used"
   ]
  },
  {
   "cell_type": "code",
   "execution_count": 29,
   "id": "70bb8f00",
   "metadata": {},
   "outputs": [
    {
     "data": {
      "text/html": [
       "<div>\n",
       "<style scoped>\n",
       "    .dataframe tbody tr th:only-of-type {\n",
       "        vertical-align: middle;\n",
       "    }\n",
       "\n",
       "    .dataframe tbody tr th {\n",
       "        vertical-align: top;\n",
       "    }\n",
       "\n",
       "    .dataframe thead th {\n",
       "        text-align: right;\n",
       "    }\n",
       "</style>\n",
       "<table border=\"1\" class=\"dataframe\">\n",
       "  <thead>\n",
       "    <tr style=\"text-align: right;\">\n",
       "      <th></th>\n",
       "      <th>Score2</th>\n",
       "      <th>Score1</th>\n",
       "      <th>Score5</th>\n",
       "    </tr>\n",
       "  </thead>\n",
       "  <tbody>\n",
       "    <tr>\n",
       "      <th>A</th>\n",
       "      <td>0.245053</td>\n",
       "      <td>0.220259</td>\n",
       "      <td>0.528530</td>\n",
       "    </tr>\n",
       "    <tr>\n",
       "      <th>B</th>\n",
       "      <td>0.141363</td>\n",
       "      <td>0.788291</td>\n",
       "      <td>0.814983</td>\n",
       "    </tr>\n",
       "    <tr>\n",
       "      <th>C</th>\n",
       "      <td>0.842388</td>\n",
       "      <td>0.340005</td>\n",
       "      <td>0.447404</td>\n",
       "    </tr>\n",
       "    <tr>\n",
       "      <th>D</th>\n",
       "      <td>0.790302</td>\n",
       "      <td>0.726933</td>\n",
       "      <td>0.520433</td>\n",
       "    </tr>\n",
       "    <tr>\n",
       "      <th>E</th>\n",
       "      <td>0.100251</td>\n",
       "      <td>0.026630</td>\n",
       "      <td>0.182429</td>\n",
       "    </tr>\n",
       "    <tr>\n",
       "      <th>F</th>\n",
       "      <td>0.350579</td>\n",
       "      <td>0.577794</td>\n",
       "      <td>0.730906</td>\n",
       "    </tr>\n",
       "    <tr>\n",
       "      <th>G</th>\n",
       "      <td>0.740533</td>\n",
       "      <td>0.645256</td>\n",
       "      <td>0.745698</td>\n",
       "    </tr>\n",
       "    <tr>\n",
       "      <th>H</th>\n",
       "      <td>0.406179</td>\n",
       "      <td>0.641171</td>\n",
       "      <td>0.751422</td>\n",
       "    </tr>\n",
       "  </tbody>\n",
       "</table>\n",
       "</div>"
      ],
      "text/plain": [
       "     Score2    Score1    Score5\n",
       "A  0.245053  0.220259  0.528530\n",
       "B  0.141363  0.788291  0.814983\n",
       "C  0.842388  0.340005  0.447404\n",
       "D  0.790302  0.726933  0.520433\n",
       "E  0.100251  0.026630  0.182429\n",
       "F  0.350579  0.577794  0.730906\n",
       "G  0.740533  0.645256  0.745698\n",
       "H  0.406179  0.641171  0.751422"
      ]
     },
     "execution_count": 29,
     "metadata": {},
     "output_type": "execute_result"
    }
   ],
   "source": [
    "df1[['Score2','Score1','Score5']]"
   ]
  },
  {
   "cell_type": "code",
   "execution_count": 32,
   "id": "4bcf3d82",
   "metadata": {},
   "outputs": [
    {
     "data": {
      "text/html": [
       "<div>\n",
       "<style scoped>\n",
       "    .dataframe tbody tr th:only-of-type {\n",
       "        vertical-align: middle;\n",
       "    }\n",
       "\n",
       "    .dataframe tbody tr th {\n",
       "        vertical-align: top;\n",
       "    }\n",
       "\n",
       "    .dataframe thead th {\n",
       "        text-align: right;\n",
       "    }\n",
       "</style>\n",
       "<table border=\"1\" class=\"dataframe\">\n",
       "  <thead>\n",
       "    <tr style=\"text-align: right;\">\n",
       "      <th></th>\n",
       "      <th>Score1</th>\n",
       "      <th>Score2</th>\n",
       "      <th>Score3</th>\n",
       "      <th>Score4</th>\n",
       "      <th>Score5</th>\n",
       "      <th>Score6</th>\n",
       "    </tr>\n",
       "  </thead>\n",
       "  <tbody>\n",
       "    <tr>\n",
       "      <th>A</th>\n",
       "      <td>0.220259</td>\n",
       "      <td>0.245053</td>\n",
       "      <td>0.056936</td>\n",
       "      <td>0.319277</td>\n",
       "      <td>0.528530</td>\n",
       "      <td>1.370054</td>\n",
       "    </tr>\n",
       "    <tr>\n",
       "      <th>B</th>\n",
       "      <td>0.788291</td>\n",
       "      <td>0.141363</td>\n",
       "      <td>0.542390</td>\n",
       "      <td>0.671473</td>\n",
       "      <td>0.814983</td>\n",
       "      <td>2.958501</td>\n",
       "    </tr>\n",
       "    <tr>\n",
       "      <th>C</th>\n",
       "      <td>0.340005</td>\n",
       "      <td>0.842388</td>\n",
       "      <td>0.852474</td>\n",
       "      <td>0.972193</td>\n",
       "      <td>0.447404</td>\n",
       "      <td>3.454464</td>\n",
       "    </tr>\n",
       "    <tr>\n",
       "      <th>D</th>\n",
       "      <td>0.726933</td>\n",
       "      <td>0.790302</td>\n",
       "      <td>0.521901</td>\n",
       "      <td>0.782036</td>\n",
       "      <td>0.520433</td>\n",
       "      <td>3.341606</td>\n",
       "    </tr>\n",
       "    <tr>\n",
       "      <th>E</th>\n",
       "      <td>0.026630</td>\n",
       "      <td>0.100251</td>\n",
       "      <td>0.167408</td>\n",
       "      <td>0.545108</td>\n",
       "      <td>0.182429</td>\n",
       "      <td>1.021826</td>\n",
       "    </tr>\n",
       "    <tr>\n",
       "      <th>F</th>\n",
       "      <td>0.577794</td>\n",
       "      <td>0.350579</td>\n",
       "      <td>0.663217</td>\n",
       "      <td>0.129456</td>\n",
       "      <td>0.730906</td>\n",
       "      <td>2.451952</td>\n",
       "    </tr>\n",
       "    <tr>\n",
       "      <th>G</th>\n",
       "      <td>0.645256</td>\n",
       "      <td>0.740533</td>\n",
       "      <td>0.402918</td>\n",
       "      <td>0.528236</td>\n",
       "      <td>0.745698</td>\n",
       "      <td>3.062640</td>\n",
       "    </tr>\n",
       "    <tr>\n",
       "      <th>H</th>\n",
       "      <td>0.641171</td>\n",
       "      <td>0.406179</td>\n",
       "      <td>0.384770</td>\n",
       "      <td>0.124535</td>\n",
       "      <td>0.751422</td>\n",
       "      <td>2.308077</td>\n",
       "    </tr>\n",
       "  </tbody>\n",
       "</table>\n",
       "</div>"
      ],
      "text/plain": [
       "     Score1    Score2    Score3    Score4    Score5    Score6\n",
       "A  0.220259  0.245053  0.056936  0.319277  0.528530  1.370054\n",
       "B  0.788291  0.141363  0.542390  0.671473  0.814983  2.958501\n",
       "C  0.340005  0.842388  0.852474  0.972193  0.447404  3.454464\n",
       "D  0.726933  0.790302  0.521901  0.782036  0.520433  3.341606\n",
       "E  0.026630  0.100251  0.167408  0.545108  0.182429  1.021826\n",
       "F  0.577794  0.350579  0.663217  0.129456  0.730906  2.451952\n",
       "G  0.645256  0.740533  0.402918  0.528236  0.745698  3.062640\n",
       "H  0.641171  0.406179  0.384770  0.124535  0.751422  2.308077"
      ]
     },
     "execution_count": 32,
     "metadata": {},
     "output_type": "execute_result"
    }
   ],
   "source": [
    "df1['Score6']=df1['Score1']+df1['Score2']+df1['Score3']+df1['Score4']+df1['Score5']\n",
    "df1\n",
    "\n",
    "### a new column is defined and the values of all the rows is added and shown in score6"
   ]
  },
  {
   "cell_type": "code",
   "execution_count": 33,
   "id": "4990a559",
   "metadata": {},
   "outputs": [
    {
     "data": {
      "text/plain": [
       "A    1.370054\n",
       "B    2.958501\n",
       "C    3.454464\n",
       "D    3.341606\n",
       "E    1.021826\n",
       "F    2.451952\n",
       "G    3.062640\n",
       "H    2.308077\n",
       "Name: Score6, dtype: float64"
      ]
     },
     "execution_count": 33,
     "metadata": {},
     "output_type": "execute_result"
    }
   ],
   "source": [
    "df1['Score6']"
   ]
  },
  {
   "cell_type": "code",
   "execution_count": 47,
   "id": "4c809019",
   "metadata": {},
   "outputs": [
    {
     "data": {
      "text/html": [
       "<div>\n",
       "<style scoped>\n",
       "    .dataframe tbody tr th:only-of-type {\n",
       "        vertical-align: middle;\n",
       "    }\n",
       "\n",
       "    .dataframe tbody tr th {\n",
       "        vertical-align: top;\n",
       "    }\n",
       "\n",
       "    .dataframe thead th {\n",
       "        text-align: right;\n",
       "    }\n",
       "</style>\n",
       "<table border=\"1\" class=\"dataframe\">\n",
       "  <thead>\n",
       "    <tr style=\"text-align: right;\">\n",
       "      <th></th>\n",
       "      <th>Score1</th>\n",
       "      <th>Score2</th>\n",
       "      <th>Score3</th>\n",
       "      <th>Score4</th>\n",
       "      <th>Score5</th>\n",
       "      <th>Score6</th>\n",
       "    </tr>\n",
       "  </thead>\n",
       "  <tbody>\n",
       "    <tr>\n",
       "      <th>A</th>\n",
       "      <td>0.220259</td>\n",
       "      <td>0.245053</td>\n",
       "      <td>0.056936</td>\n",
       "      <td>0.319277</td>\n",
       "      <td>0.528530</td>\n",
       "      <td>1.370054</td>\n",
       "    </tr>\n",
       "    <tr>\n",
       "      <th>B</th>\n",
       "      <td>0.788291</td>\n",
       "      <td>0.141363</td>\n",
       "      <td>0.542390</td>\n",
       "      <td>0.671473</td>\n",
       "      <td>0.814983</td>\n",
       "      <td>2.958501</td>\n",
       "    </tr>\n",
       "    <tr>\n",
       "      <th>C</th>\n",
       "      <td>0.340005</td>\n",
       "      <td>0.842388</td>\n",
       "      <td>0.852474</td>\n",
       "      <td>0.972193</td>\n",
       "      <td>0.447404</td>\n",
       "      <td>3.454464</td>\n",
       "    </tr>\n",
       "    <tr>\n",
       "      <th>D</th>\n",
       "      <td>0.726933</td>\n",
       "      <td>0.790302</td>\n",
       "      <td>0.521901</td>\n",
       "      <td>0.782036</td>\n",
       "      <td>0.520433</td>\n",
       "      <td>3.341606</td>\n",
       "    </tr>\n",
       "    <tr>\n",
       "      <th>F</th>\n",
       "      <td>0.577794</td>\n",
       "      <td>0.350579</td>\n",
       "      <td>0.663217</td>\n",
       "      <td>0.129456</td>\n",
       "      <td>0.730906</td>\n",
       "      <td>2.451952</td>\n",
       "    </tr>\n",
       "    <tr>\n",
       "      <th>G</th>\n",
       "      <td>0.645256</td>\n",
       "      <td>0.740533</td>\n",
       "      <td>0.402918</td>\n",
       "      <td>0.528236</td>\n",
       "      <td>0.745698</td>\n",
       "      <td>3.062640</td>\n",
       "    </tr>\n",
       "    <tr>\n",
       "      <th>H</th>\n",
       "      <td>0.641171</td>\n",
       "      <td>0.406179</td>\n",
       "      <td>0.384770</td>\n",
       "      <td>0.124535</td>\n",
       "      <td>0.751422</td>\n",
       "      <td>2.308077</td>\n",
       "    </tr>\n",
       "  </tbody>\n",
       "</table>\n",
       "</div>"
      ],
      "text/plain": [
       "     Score1    Score2    Score3    Score4    Score5    Score6\n",
       "A  0.220259  0.245053  0.056936  0.319277  0.528530  1.370054\n",
       "B  0.788291  0.141363  0.542390  0.671473  0.814983  2.958501\n",
       "C  0.340005  0.842388  0.852474  0.972193  0.447404  3.454464\n",
       "D  0.726933  0.790302  0.521901  0.782036  0.520433  3.341606\n",
       "F  0.577794  0.350579  0.663217  0.129456  0.730906  2.451952\n",
       "G  0.645256  0.740533  0.402918  0.528236  0.745698  3.062640\n",
       "H  0.641171  0.406179  0.384770  0.124535  0.751422  2.308077"
      ]
     },
     "execution_count": 47,
     "metadata": {},
     "output_type": "execute_result"
    }
   ],
   "source": [
    "df1.drop('E')"
   ]
  },
  {
   "cell_type": "code",
   "execution_count": 48,
   "id": "d88e045c",
   "metadata": {},
   "outputs": [
    {
     "data": {
      "text/html": [
       "<div>\n",
       "<style scoped>\n",
       "    .dataframe tbody tr th:only-of-type {\n",
       "        vertical-align: middle;\n",
       "    }\n",
       "\n",
       "    .dataframe tbody tr th {\n",
       "        vertical-align: top;\n",
       "    }\n",
       "\n",
       "    .dataframe thead th {\n",
       "        text-align: right;\n",
       "    }\n",
       "</style>\n",
       "<table border=\"1\" class=\"dataframe\">\n",
       "  <thead>\n",
       "    <tr style=\"text-align: right;\">\n",
       "      <th></th>\n",
       "      <th>Score1</th>\n",
       "      <th>Score2</th>\n",
       "      <th>Score3</th>\n",
       "      <th>Score4</th>\n",
       "      <th>Score5</th>\n",
       "      <th>Score6</th>\n",
       "    </tr>\n",
       "  </thead>\n",
       "  <tbody>\n",
       "    <tr>\n",
       "      <th>A</th>\n",
       "      <td>0.220259</td>\n",
       "      <td>0.245053</td>\n",
       "      <td>0.056936</td>\n",
       "      <td>0.319277</td>\n",
       "      <td>0.528530</td>\n",
       "      <td>1.370054</td>\n",
       "    </tr>\n",
       "    <tr>\n",
       "      <th>B</th>\n",
       "      <td>0.788291</td>\n",
       "      <td>0.141363</td>\n",
       "      <td>0.542390</td>\n",
       "      <td>0.671473</td>\n",
       "      <td>0.814983</td>\n",
       "      <td>2.958501</td>\n",
       "    </tr>\n",
       "    <tr>\n",
       "      <th>C</th>\n",
       "      <td>0.340005</td>\n",
       "      <td>0.842388</td>\n",
       "      <td>0.852474</td>\n",
       "      <td>0.972193</td>\n",
       "      <td>0.447404</td>\n",
       "      <td>3.454464</td>\n",
       "    </tr>\n",
       "    <tr>\n",
       "      <th>D</th>\n",
       "      <td>0.726933</td>\n",
       "      <td>0.790302</td>\n",
       "      <td>0.521901</td>\n",
       "      <td>0.782036</td>\n",
       "      <td>0.520433</td>\n",
       "      <td>3.341606</td>\n",
       "    </tr>\n",
       "    <tr>\n",
       "      <th>E</th>\n",
       "      <td>0.026630</td>\n",
       "      <td>0.100251</td>\n",
       "      <td>0.167408</td>\n",
       "      <td>0.545108</td>\n",
       "      <td>0.182429</td>\n",
       "      <td>1.021826</td>\n",
       "    </tr>\n",
       "    <tr>\n",
       "      <th>F</th>\n",
       "      <td>0.577794</td>\n",
       "      <td>0.350579</td>\n",
       "      <td>0.663217</td>\n",
       "      <td>0.129456</td>\n",
       "      <td>0.730906</td>\n",
       "      <td>2.451952</td>\n",
       "    </tr>\n",
       "    <tr>\n",
       "      <th>G</th>\n",
       "      <td>0.645256</td>\n",
       "      <td>0.740533</td>\n",
       "      <td>0.402918</td>\n",
       "      <td>0.528236</td>\n",
       "      <td>0.745698</td>\n",
       "      <td>3.062640</td>\n",
       "    </tr>\n",
       "    <tr>\n",
       "      <th>H</th>\n",
       "      <td>0.641171</td>\n",
       "      <td>0.406179</td>\n",
       "      <td>0.384770</td>\n",
       "      <td>0.124535</td>\n",
       "      <td>0.751422</td>\n",
       "      <td>2.308077</td>\n",
       "    </tr>\n",
       "  </tbody>\n",
       "</table>\n",
       "</div>"
      ],
      "text/plain": [
       "     Score1    Score2    Score3    Score4    Score5    Score6\n",
       "A  0.220259  0.245053  0.056936  0.319277  0.528530  1.370054\n",
       "B  0.788291  0.141363  0.542390  0.671473  0.814983  2.958501\n",
       "C  0.340005  0.842388  0.852474  0.972193  0.447404  3.454464\n",
       "D  0.726933  0.790302  0.521901  0.782036  0.520433  3.341606\n",
       "E  0.026630  0.100251  0.167408  0.545108  0.182429  1.021826\n",
       "F  0.577794  0.350579  0.663217  0.129456  0.730906  2.451952\n",
       "G  0.645256  0.740533  0.402918  0.528236  0.745698  3.062640\n",
       "H  0.641171  0.406179  0.384770  0.124535  0.751422  2.308077"
      ]
     },
     "execution_count": 48,
     "metadata": {},
     "output_type": "execute_result"
    }
   ],
   "source": [
    "df1"
   ]
  },
  {
   "cell_type": "code",
   "execution_count": null,
   "id": "0de815f1",
   "metadata": {},
   "outputs": [],
   "source": []
  }
 ],
 "metadata": {
  "kernelspec": {
   "display_name": "Python 3",
   "language": "python",
   "name": "python3"
  },
  "language_info": {
   "codemirror_mode": {
    "name": "ipython",
    "version": 3
   },
   "file_extension": ".py",
   "mimetype": "text/x-python",
   "name": "python",
   "nbconvert_exporter": "python",
   "pygments_lexer": "ipython3",
   "version": "3.8.8"
  }
 },
 "nbformat": 4,
 "nbformat_minor": 5
}
