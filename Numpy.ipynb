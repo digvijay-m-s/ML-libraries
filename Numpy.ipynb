{
 "cells": [
  {
   "cell_type": "markdown",
   "id": "5408086e",
   "metadata": {},
   "source": [
    "# Machine Learning Libraries"
   ]
  },
  {
   "cell_type": "code",
   "execution_count": 1,
   "id": "d57362de",
   "metadata": {},
   "outputs": [],
   "source": [
    "#Some of the machine libraries are as follows:\n",
    "### Numpy \n",
    "### Pandas\n",
    "### Matplotlib\n",
    "### Seaborn\n",
    "### Sipy\n",
    "### sklearn"
   ]
  },
  {
   "cell_type": "code",
   "execution_count": 2,
   "id": "16bfeca0",
   "metadata": {},
   "outputs": [],
   "source": [
    "import numpy as np\n",
    "\n",
    "### np is alias\n",
    "### we can write anything in place of np as alias"
   ]
  },
  {
   "cell_type": "code",
   "execution_count": 3,
   "id": "169ce456",
   "metadata": {},
   "outputs": [
    {
     "data": {
      "text/plain": [
       "array([6, 7, 8])"
      ]
     },
     "execution_count": 3,
     "metadata": {},
     "output_type": "execute_result"
    }
   ],
   "source": [
    "### 1st method to create an array\n",
    "\n",
    "simple_list=[6,7,8]\n",
    "np.array(simple_list)"
   ]
  },
  {
   "cell_type": "code",
   "execution_count": 4,
   "id": "744dd9eb",
   "metadata": {},
   "outputs": [
    {
     "data": {
      "text/plain": [
       "array([6, 7, 8])"
      ]
     },
     "execution_count": 4,
     "metadata": {},
     "output_type": "execute_result"
    }
   ],
   "source": [
    "##2nd method to create an array\n",
    "\n",
    "arr=np.array([6,7,8])\n",
    "arr"
   ]
  },
  {
   "cell_type": "code",
   "execution_count": 5,
   "id": "cd30e2d0",
   "metadata": {},
   "outputs": [
    {
     "data": {
      "text/plain": [
       "numpy.ndarray"
      ]
     },
     "execution_count": 5,
     "metadata": {},
     "output_type": "execute_result"
    }
   ],
   "source": [
    "type(arr)"
   ]
  },
  {
   "cell_type": "code",
   "execution_count": 6,
   "id": "d8921e72",
   "metadata": {},
   "outputs": [
    {
     "data": {
      "text/plain": [
       "array([[1, 2, 3],\n",
       "       [4, 5, 6],\n",
       "       [7, 8, 9]])"
      ]
     },
     "execution_count": 6,
     "metadata": {},
     "output_type": "execute_result"
    }
   ],
   "source": [
    "### lists within the list\n",
    "\n",
    "\n",
    "list_of_lists=([1,2,3],[4,5,6],[7,8,9])\n",
    "np.array(list_of_lists)"
   ]
  },
  {
   "cell_type": "code",
   "execution_count": 7,
   "id": "05bf4574",
   "metadata": {},
   "outputs": [
    {
     "data": {
      "text/plain": [
       "array([1, 2, 3])"
      ]
     },
     "execution_count": 7,
     "metadata": {},
     "output_type": "execute_result"
    }
   ],
   "source": [
    "arr=np.array([1,2,3])\n",
    "arr"
   ]
  },
  {
   "cell_type": "code",
   "execution_count": 8,
   "id": "89676b2e",
   "metadata": {},
   "outputs": [
    {
     "data": {
      "text/plain": [
       "array([[1, 2, 3],\n",
       "       [4, 5, 6],\n",
       "       [7, 8, 9]])"
      ]
     },
     "execution_count": 8,
     "metadata": {},
     "output_type": "execute_result"
    }
   ],
   "source": [
    "arr=np.array([[1,2,3],[4,5,6],[7,8,9]])\n",
    "arr"
   ]
  },
  {
   "cell_type": "markdown",
   "id": "bbe72ef2",
   "metadata": {},
   "source": [
    "###  np.arange\n",
    "### step size is 1\n",
    "### last one is not included for example np.arange(2,10) its from 2 to 9\n"
   ]
  },
  {
   "cell_type": "code",
   "execution_count": 9,
   "id": "baf5ad5b",
   "metadata": {},
   "outputs": [
    {
     "data": {
      "text/plain": [
       "array([ 5,  6,  7,  8,  9, 10, 11, 12, 13, 14, 15, 16, 17, 18, 19, 20, 21,\n",
       "       22, 23, 24, 25, 26, 27])"
      ]
     },
     "execution_count": 9,
     "metadata": {},
     "output_type": "execute_result"
    }
   ],
   "source": [
    "np.arange(5,28)\n",
    "\n",
    "## step size is 1\n",
    "# starts with 5\n",
    "# ends with 27"
   ]
  },
  {
   "cell_type": "code",
   "execution_count": 10,
   "id": "2e5b06a6",
   "metadata": {},
   "outputs": [
    {
     "data": {
      "text/plain": [
       "array([ 5, 11, 17, 23, 29])"
      ]
     },
     "execution_count": 10,
     "metadata": {},
     "output_type": "execute_result"
    }
   ],
   "source": [
    "np.arange(5,35,6)\n",
    "\n",
    "### starts with 5\n",
    "### ends with 34, but as step size is 6 the last element is 35\n",
    "### by default step size is one \n",
    "### we can define step size in 3rd argument\n"
   ]
  },
  {
   "cell_type": "markdown",
   "id": "3caa6c8e",
   "metadata": {},
   "source": [
    "### np.zeros\n",
    "### elements data type is float by default\n",
    "### all elements are 0\n",
    "### number of zeros are given as first argument in parathesis"
   ]
  },
  {
   "cell_type": "code",
   "execution_count": 11,
   "id": "6692a1f1",
   "metadata": {},
   "outputs": [
    {
     "data": {
      "text/plain": [
       "array([0., 0., 0., 0., 0., 0.])"
      ]
     },
     "execution_count": 11,
     "metadata": {},
     "output_type": "execute_result"
    }
   ],
   "source": [
    "np.zeros(6)"
   ]
  },
  {
   "cell_type": "code",
   "execution_count": 12,
   "id": "0ea93cd2",
   "metadata": {},
   "outputs": [
    {
     "data": {
      "text/plain": [
       "array([0, 0, 0, 0, 0, 0])"
      ]
     },
     "execution_count": 12,
     "metadata": {},
     "output_type": "execute_result"
    }
   ],
   "source": [
    "np.zeros(6,dtype=int)\n",
    "\n",
    "### data type is mentioned in the second argument\n",
    "## all zeros are int type"
   ]
  },
  {
   "cell_type": "code",
   "execution_count": 13,
   "id": "832603b7",
   "metadata": {},
   "outputs": [
    {
     "data": {
      "text/plain": [
       "array([[0, 0, 0],\n",
       "       [0, 0, 0]])"
      ]
     },
     "execution_count": 13,
     "metadata": {},
     "output_type": "execute_result"
    }
   ],
   "source": [
    "np.zeros((2,3),dtype=int)\n",
    "\n",
    "### 2 rows and 3 columns"
   ]
  },
  {
   "cell_type": "markdown",
   "id": "13b8ae00",
   "metadata": {},
   "source": [
    "### np.ones\n",
    "### elements data type is float by default\n",
    "### all elements are 1\n",
    "### number of ones are given as first argument in parathesis"
   ]
  },
  {
   "cell_type": "code",
   "execution_count": 14,
   "id": "2b1d93a1",
   "metadata": {},
   "outputs": [
    {
     "data": {
      "text/plain": [
       "array([1., 1., 1., 1., 1.])"
      ]
     },
     "execution_count": 14,
     "metadata": {},
     "output_type": "execute_result"
    }
   ],
   "source": [
    "np.ones(5)\n"
   ]
  },
  {
   "cell_type": "code",
   "execution_count": 15,
   "id": "be48fdf3",
   "metadata": {},
   "outputs": [
    {
     "data": {
      "text/plain": [
       "array([1, 1, 1, 1, 1])"
      ]
     },
     "execution_count": 15,
     "metadata": {},
     "output_type": "execute_result"
    }
   ],
   "source": [
    "np.ones(5, dtype=int)"
   ]
  },
  {
   "cell_type": "code",
   "execution_count": 16,
   "id": "d9ad01b1",
   "metadata": {},
   "outputs": [
    {
     "data": {
      "text/plain": [
       "array([[1., 1., 1., 1., 1., 1., 1., 1.],\n",
       "       [1., 1., 1., 1., 1., 1., 1., 1.],\n",
       "       [1., 1., 1., 1., 1., 1., 1., 1.],\n",
       "       [1., 1., 1., 1., 1., 1., 1., 1.]])"
      ]
     },
     "execution_count": 16,
     "metadata": {},
     "output_type": "execute_result"
    }
   ],
   "source": [
    "np.ones((4,8))\n",
    "## 4 rows and 8 columns\n",
    "### all floats"
   ]
  },
  {
   "cell_type": "code",
   "execution_count": 17,
   "id": "8739dd0b",
   "metadata": {},
   "outputs": [
    {
     "data": {
      "text/plain": [
       "array([[1, 1, 1, 1, 1, 1, 1, 1],\n",
       "       [1, 1, 1, 1, 1, 1, 1, 1],\n",
       "       [1, 1, 1, 1, 1, 1, 1, 1],\n",
       "       [1, 1, 1, 1, 1, 1, 1, 1]])"
      ]
     },
     "execution_count": 17,
     "metadata": {},
     "output_type": "execute_result"
    }
   ],
   "source": [
    "np.ones((4,8),dtype=int)"
   ]
  },
  {
   "cell_type": "markdown",
   "id": "02653308",
   "metadata": {},
   "source": [
    "### np.linspace\n",
    "### Number of samples to generate. Default is 50. Must be non-negative.\n",
    "### step size is given in 3rd arguement, bydefault its 50"
   ]
  },
  {
   "cell_type": "code",
   "execution_count": 18,
   "id": "007df07b",
   "metadata": {},
   "outputs": [
    {
     "data": {
      "text/plain": [
       "array([0.        , 0.02040816, 0.04081633, 0.06122449, 0.08163265,\n",
       "       0.10204082, 0.12244898, 0.14285714, 0.16326531, 0.18367347,\n",
       "       0.20408163, 0.2244898 , 0.24489796, 0.26530612, 0.28571429,\n",
       "       0.30612245, 0.32653061, 0.34693878, 0.36734694, 0.3877551 ,\n",
       "       0.40816327, 0.42857143, 0.44897959, 0.46938776, 0.48979592,\n",
       "       0.51020408, 0.53061224, 0.55102041, 0.57142857, 0.59183673,\n",
       "       0.6122449 , 0.63265306, 0.65306122, 0.67346939, 0.69387755,\n",
       "       0.71428571, 0.73469388, 0.75510204, 0.7755102 , 0.79591837,\n",
       "       0.81632653, 0.83673469, 0.85714286, 0.87755102, 0.89795918,\n",
       "       0.91836735, 0.93877551, 0.95918367, 0.97959184, 1.        ])"
      ]
     },
     "execution_count": 18,
     "metadata": {},
     "output_type": "execute_result"
    }
   ],
   "source": [
    "np.linspace(0,1)"
   ]
  },
  {
   "cell_type": "code",
   "execution_count": 19,
   "id": "08866e57",
   "metadata": {},
   "outputs": [
    {
     "data": {
      "text/plain": [
       "array([0.        , 0.11111111, 0.22222222, 0.33333333, 0.44444444,\n",
       "       0.55555556, 0.66666667, 0.77777778, 0.88888889, 1.        ])"
      ]
     },
     "execution_count": 19,
     "metadata": {},
     "output_type": "execute_result"
    }
   ],
   "source": [
    "np.linspace(0,1,10)"
   ]
  },
  {
   "cell_type": "code",
   "execution_count": 20,
   "id": "ac610b1b",
   "metadata": {},
   "outputs": [
    {
     "data": {
      "text/plain": [
       "array([ 0.  ,  1.25,  2.5 ,  3.75,  5.  ,  6.25,  7.5 ,  8.75, 10.  ])"
      ]
     },
     "execution_count": 20,
     "metadata": {},
     "output_type": "execute_result"
    }
   ],
   "source": [
    "np.linspace(0,10,num=9 )"
   ]
  },
  {
   "cell_type": "code",
   "execution_count": 21,
   "id": "c7bc0ae0",
   "metadata": {},
   "outputs": [
    {
     "data": {
      "text/plain": [
       "array([ 0.        ,  2.22222222,  4.44444444,  6.66666667,  8.88888889,\n",
       "       11.11111111, 13.33333333, 15.55555556, 17.77777778, 20.        ])"
      ]
     },
     "execution_count": 21,
     "metadata": {},
     "output_type": "execute_result"
    }
   ],
   "source": [
    "np.linspace(0,20,10)"
   ]
  },
  {
   "cell_type": "code",
   "execution_count": 22,
   "id": "9f0d39d0",
   "metadata": {},
   "outputs": [
    {
     "data": {
      "text/plain": [
       "array([ 0, 10])"
      ]
     },
     "execution_count": 22,
     "metadata": {},
     "output_type": "execute_result"
    }
   ],
   "source": [
    "np.arange(0,20,10)"
   ]
  },
  {
   "cell_type": "markdown",
   "id": "0a2973a2",
   "metadata": {},
   "source": [
    "### np.eye \n",
    "### identity matrix\n",
    "### takes single argument are number of rows n colums\n",
    "### np.eye(5) gives identity matrix of 5 rows n columns\n",
    "### default data type is float\n"
   ]
  },
  {
   "cell_type": "code",
   "execution_count": 23,
   "id": "d63e0838",
   "metadata": {},
   "outputs": [
    {
     "data": {
      "text/plain": [
       "array([[1., 0.],\n",
       "       [0., 1.]])"
      ]
     },
     "execution_count": 23,
     "metadata": {},
     "output_type": "execute_result"
    }
   ],
   "source": [
    "np.eye(2)"
   ]
  },
  {
   "cell_type": "code",
   "execution_count": 24,
   "id": "77db86c9",
   "metadata": {},
   "outputs": [
    {
     "data": {
      "text/plain": [
       "array([[1., 0., 0., 0., 0., 0., 0., 0., 0., 0.],\n",
       "       [0., 1., 0., 0., 0., 0., 0., 0., 0., 0.],\n",
       "       [0., 0., 1., 0., 0., 0., 0., 0., 0., 0.],\n",
       "       [0., 0., 0., 1., 0., 0., 0., 0., 0., 0.],\n",
       "       [0., 0., 0., 0., 1., 0., 0., 0., 0., 0.],\n",
       "       [0., 0., 0., 0., 0., 1., 0., 0., 0., 0.],\n",
       "       [0., 0., 0., 0., 0., 0., 1., 0., 0., 0.],\n",
       "       [0., 0., 0., 0., 0., 0., 0., 1., 0., 0.],\n",
       "       [0., 0., 0., 0., 0., 0., 0., 0., 1., 0.],\n",
       "       [0., 0., 0., 0., 0., 0., 0., 0., 0., 1.]])"
      ]
     },
     "execution_count": 24,
     "metadata": {},
     "output_type": "execute_result"
    }
   ],
   "source": [
    "np.eye(10)"
   ]
  },
  {
   "cell_type": "code",
   "execution_count": 25,
   "id": "963437d4",
   "metadata": {},
   "outputs": [
    {
     "data": {
      "text/plain": [
       "array([[1, 0, 0],\n",
       "       [0, 1, 0],\n",
       "       [0, 0, 1]])"
      ]
     },
     "execution_count": 25,
     "metadata": {},
     "output_type": "execute_result"
    }
   ],
   "source": [
    "np.eye(3, dtype=int)"
   ]
  },
  {
   "cell_type": "markdown",
   "id": "1339ccdb",
   "metadata": {},
   "source": [
    "### np.random.rand(2,4)\n",
    "### 2 rows and 4 coulmns\n",
    "### always gives random values ranging betweeen 0 to 1\n",
    "### uniform distribution\n",
    "### only positive values\n"
   ]
  },
  {
   "cell_type": "code",
   "execution_count": 26,
   "id": "1471ded9",
   "metadata": {},
   "outputs": [
    {
     "data": {
      "text/plain": [
       "array([[0.81948327, 0.00778997, 0.6733033 , 0.51334028],\n",
       "       [0.88962792, 0.14433324, 0.54816104, 0.550825  ]])"
      ]
     },
     "execution_count": 26,
     "metadata": {},
     "output_type": "execute_result"
    }
   ],
   "source": [
    "np.random.rand(2,4)"
   ]
  },
  {
   "cell_type": "markdown",
   "id": "74dcec95",
   "metadata": {},
   "source": [
    "### np.random.randn(2,4)\n",
    "### 2 rows and 3 columns\n",
    "### random values ranging -1 to 1\n",
    "### standard normal distribution"
   ]
  },
  {
   "cell_type": "code",
   "execution_count": 27,
   "id": "57d8b0b9",
   "metadata": {},
   "outputs": [
    {
     "data": {
      "text/plain": [
       "array([[ 0.585138  , -0.94572702,  0.23750681],\n",
       "       [-0.79409488, -0.07031328, -0.79238264]])"
      ]
     },
     "execution_count": 27,
     "metadata": {},
     "output_type": "execute_result"
    }
   ],
   "source": [
    "np.random.randn(2,3)"
   ]
  },
  {
   "cell_type": "markdown",
   "id": "3612b0e3",
   "metadata": {},
   "source": [
    "### np.random.randint(2,20,100)\n",
    "### starts with 2\n",
    "### ends with 19\n",
    "### number of samples in 100\n",
    "### all random values and values are allowed to be repeated"
   ]
  },
  {
   "cell_type": "code",
   "execution_count": 28,
   "id": "9797e733",
   "metadata": {},
   "outputs": [
    {
     "data": {
      "text/plain": [
       "array([16, 14, 13,  6, 19, 14,  9,  7, 17,  9, 18, 19, 19, 14, 13,  9,  9,\n",
       "       14, 18,  3, 11, 17,  6,  8,  7,  8,  6, 11, 15, 12, 18,  8,  6, 15,\n",
       "       16, 10, 11, 16, 16,  8, 17,  7, 11, 19,  8,  4, 10,  8, 13,  5, 16,\n",
       "       18, 16, 15, 15, 18, 13, 19,  2, 13, 13, 14, 13, 13,  6, 11, 12, 15,\n",
       "       14, 18,  5,  2,  2, 12, 12, 11,  2, 16,  7,  4, 15,  3,  8, 13, 19,\n",
       "       12, 16, 18,  8,  9, 16, 16,  5, 19, 12,  2, 18, 10, 15,  6])"
      ]
     },
     "execution_count": 28,
     "metadata": {},
     "output_type": "execute_result"
    }
   ],
   "source": [
    "np.random.randint(2,20,100)"
   ]
  },
  {
   "cell_type": "code",
   "execution_count": 29,
   "id": "66774705",
   "metadata": {},
   "outputs": [
    {
     "data": {
      "text/plain": [
       "array([99, 64, 96, 46, 42, 34, 72, 78, 21, 41, 29, 78, 43, 36, 68])"
      ]
     },
     "execution_count": 29,
     "metadata": {},
     "output_type": "execute_result"
    }
   ],
   "source": [
    "np.random.randint(10,100,15)\n"
   ]
  },
  {
   "cell_type": "code",
   "execution_count": 30,
   "id": "20de560a",
   "metadata": {},
   "outputs": [
    {
     "data": {
      "text/plain": [
       "array([42, 24, 47, 23, 40, 39, 34, 39, 32, 51, 31, 40, 46, 20, 45, 28, 44,\n",
       "       25, 47, 53, 29, 26, 34, 38, 49, 34, 47, 51, 41, 35, 22, 51, 50, 30,\n",
       "       30, 32, 45, 52, 33, 49, 29, 42, 25, 36, 41, 53, 55, 27, 20, 49, 22,\n",
       "       24, 50, 26, 31, 51, 21, 50, 27, 45, 27, 25, 42, 48, 25, 20, 32, 36,\n",
       "       22, 24, 55, 31, 44, 23, 33, 40, 49, 21, 37, 32, 28, 36, 20, 42, 40,\n",
       "       51, 34, 37, 52, 46, 30, 50, 50, 29, 54, 42, 55, 48, 37, 30])"
      ]
     },
     "execution_count": 30,
     "metadata": {},
     "output_type": "execute_result"
    }
   ],
   "source": [
    "np.random.randint(20,56,100)"
   ]
  },
  {
   "cell_type": "code",
   "execution_count": 31,
   "id": "7e97f404",
   "metadata": {},
   "outputs": [],
   "source": [
    "sample_array=np.arange(2,20)"
   ]
  },
  {
   "cell_type": "code",
   "execution_count": 32,
   "id": "8ec36058",
   "metadata": {},
   "outputs": [
    {
     "data": {
      "text/plain": [
       "array([ 2,  3,  4,  5,  6,  7,  8,  9, 10, 11, 12, 13, 14, 15, 16, 17, 18,\n",
       "       19])"
      ]
     },
     "execution_count": 32,
     "metadata": {},
     "output_type": "execute_result"
    }
   ],
   "source": [
    "sample_array"
   ]
  },
  {
   "cell_type": "code",
   "execution_count": 33,
   "id": "13d23d5e",
   "metadata": {},
   "outputs": [
    {
     "data": {
      "text/plain": [
       "array([7, 3, 9, 2, 4])"
      ]
     },
     "execution_count": 33,
     "metadata": {},
     "output_type": "execute_result"
    }
   ],
   "source": [
    "rand_array=np.random.randint(0,10,5)\n",
    "rand_array"
   ]
  },
  {
   "cell_type": "code",
   "execution_count": 34,
   "id": "02036372",
   "metadata": {},
   "outputs": [
    {
     "data": {
      "text/plain": [
       "2"
      ]
     },
     "execution_count": 34,
     "metadata": {},
     "output_type": "execute_result"
    }
   ],
   "source": [
    "sample_array.min()"
   ]
  },
  {
   "cell_type": "code",
   "execution_count": 35,
   "id": "6b69b215",
   "metadata": {},
   "outputs": [
    {
     "data": {
      "text/plain": [
       "0"
      ]
     },
     "execution_count": 35,
     "metadata": {},
     "output_type": "execute_result"
    }
   ],
   "source": [
    "sample_array.argmin()"
   ]
  },
  {
   "cell_type": "code",
   "execution_count": 36,
   "id": "efad009b",
   "metadata": {},
   "outputs": [
    {
     "data": {
      "text/plain": [
       "2"
      ]
     },
     "execution_count": 36,
     "metadata": {},
     "output_type": "execute_result"
    }
   ],
   "source": [
    "rand_array.min()"
   ]
  },
  {
   "cell_type": "code",
   "execution_count": 37,
   "id": "7b40fe35",
   "metadata": {},
   "outputs": [
    {
     "data": {
      "text/plain": [
       "3"
      ]
     },
     "execution_count": 37,
     "metadata": {},
     "output_type": "execute_result"
    }
   ],
   "source": [
    "rand_array.argmin()"
   ]
  },
  {
   "cell_type": "code",
   "execution_count": 38,
   "id": "b5c20c49",
   "metadata": {},
   "outputs": [
    {
     "data": {
      "text/plain": [
       "19"
      ]
     },
     "execution_count": 38,
     "metadata": {},
     "output_type": "execute_result"
    }
   ],
   "source": [
    "sample_array.max()"
   ]
  },
  {
   "cell_type": "code",
   "execution_count": 39,
   "id": "cfe69d0d",
   "metadata": {},
   "outputs": [
    {
     "data": {
      "text/plain": [
       "17"
      ]
     },
     "execution_count": 39,
     "metadata": {},
     "output_type": "execute_result"
    }
   ],
   "source": [
    "sample_array.argmax()"
   ]
  },
  {
   "cell_type": "code",
   "execution_count": 40,
   "id": "d2d815e1",
   "metadata": {},
   "outputs": [
    {
     "data": {
      "text/plain": [
       "9"
      ]
     },
     "execution_count": 40,
     "metadata": {},
     "output_type": "execute_result"
    }
   ],
   "source": [
    "rand_array.max()"
   ]
  },
  {
   "cell_type": "code",
   "execution_count": 41,
   "id": "cb24b6f3",
   "metadata": {},
   "outputs": [
    {
     "data": {
      "text/plain": [
       "2"
      ]
     },
     "execution_count": 41,
     "metadata": {},
     "output_type": "execute_result"
    }
   ],
   "source": [
    "rand_array.argmax()"
   ]
  },
  {
   "cell_type": "code",
   "execution_count": 42,
   "id": "552a628b",
   "metadata": {},
   "outputs": [],
   "source": [
    "a=np.eye(5)"
   ]
  },
  {
   "cell_type": "code",
   "execution_count": 43,
   "id": "26474bef",
   "metadata": {},
   "outputs": [
    {
     "data": {
      "text/plain": [
       "array([[1., 0., 0., 0., 0.],\n",
       "       [0., 1., 0., 0., 0.],\n",
       "       [0., 0., 1., 0., 0.],\n",
       "       [0., 0., 0., 1., 0.],\n",
       "       [0., 0., 0., 0., 1.]])"
      ]
     },
     "execution_count": 43,
     "metadata": {},
     "output_type": "execute_result"
    }
   ],
   "source": [
    "a\n",
    "\n"
   ]
  },
  {
   "cell_type": "code",
   "execution_count": 44,
   "id": "01cc2846",
   "metadata": {},
   "outputs": [],
   "source": [
    "a=np.random.rand(2,3)"
   ]
  },
  {
   "cell_type": "code",
   "execution_count": 45,
   "id": "8ae5430d",
   "metadata": {},
   "outputs": [
    {
     "data": {
      "text/plain": [
       "array([[0.49473402, 0.91116101, 0.77609717],\n",
       "       [0.50924201, 0.5651084 , 0.16734281]])"
      ]
     },
     "execution_count": 45,
     "metadata": {},
     "output_type": "execute_result"
    }
   ],
   "source": [
    "a"
   ]
  },
  {
   "cell_type": "code",
   "execution_count": 46,
   "id": "bbe46bb9",
   "metadata": {},
   "outputs": [
    {
     "data": {
      "text/plain": [
       "array([[0.49473402, 0.50924201],\n",
       "       [0.91116101, 0.5651084 ],\n",
       "       [0.77609717, 0.16734281]])"
      ]
     },
     "execution_count": 46,
     "metadata": {},
     "output_type": "execute_result"
    }
   ],
   "source": [
    "## transpose\n",
    "a.T"
   ]
  },
  {
   "cell_type": "code",
   "execution_count": 47,
   "id": "ef468fac",
   "metadata": {},
   "outputs": [
    {
     "data": {
      "text/plain": [
       "array([10, 11, 12, 13, 14, 15, 16, 17, 18, 19, 20, 21, 22, 23, 24, 25, 26,\n",
       "       27])"
      ]
     },
     "execution_count": 47,
     "metadata": {},
     "output_type": "execute_result"
    }
   ],
   "source": [
    "sample_array=np.arange(10,28)\n",
    "sample_array"
   ]
  },
  {
   "cell_type": "code",
   "execution_count": 48,
   "id": "86b1d47a",
   "metadata": {},
   "outputs": [],
   "source": [
    "### reshaping the array into different rowns and columns\n",
    "\n",
    "sample_array=sample_array.reshape(6,3)"
   ]
  },
  {
   "cell_type": "code",
   "execution_count": 49,
   "id": "9480b9aa",
   "metadata": {},
   "outputs": [
    {
     "data": {
      "text/plain": [
       "array([[10, 11, 12],\n",
       "       [13, 14, 15],\n",
       "       [16, 17, 18],\n",
       "       [19, 20, 21],\n",
       "       [22, 23, 24],\n",
       "       [25, 26, 27]])"
      ]
     },
     "execution_count": 49,
     "metadata": {},
     "output_type": "execute_result"
    }
   ],
   "source": [
    "sample_array"
   ]
  },
  {
   "cell_type": "code",
   "execution_count": 50,
   "id": "d2261de3",
   "metadata": {},
   "outputs": [],
   "source": [
    "sample_array=sample_array.reshape(3,6)"
   ]
  },
  {
   "cell_type": "code",
   "execution_count": 51,
   "id": "43c55417",
   "metadata": {},
   "outputs": [
    {
     "data": {
      "text/plain": [
       "array([[10, 11, 12, 13, 14, 15],\n",
       "       [16, 17, 18, 19, 20, 21],\n",
       "       [22, 23, 24, 25, 26, 27]])"
      ]
     },
     "execution_count": 51,
     "metadata": {},
     "output_type": "execute_result"
    }
   ],
   "source": [
    "sample_array"
   ]
  },
  {
   "cell_type": "code",
   "execution_count": 52,
   "id": "131304d6",
   "metadata": {},
   "outputs": [
    {
     "ename": "ValueError",
     "evalue": "cannot reshape array of size 18 into shape (3,4)",
     "output_type": "error",
     "traceback": [
      "\u001b[1;31m---------------------------------------------------------------------------\u001b[0m",
      "\u001b[1;31mValueError\u001b[0m                                Traceback (most recent call last)",
      "\u001b[1;32m<ipython-input-52-5f23cada80f8>\u001b[0m in \u001b[0;36m<module>\u001b[1;34m\u001b[0m\n\u001b[0;32m      1\u001b[0m \u001b[1;31m### cannot reshape 18 elements into 12 elements\u001b[0m\u001b[1;33m\u001b[0m\u001b[1;33m\u001b[0m\u001b[1;33m\u001b[0m\u001b[0m\n\u001b[0;32m      2\u001b[0m \u001b[1;33m\u001b[0m\u001b[0m\n\u001b[1;32m----> 3\u001b[1;33m \u001b[0msample_array\u001b[0m\u001b[1;33m=\u001b[0m\u001b[0msample_array\u001b[0m\u001b[1;33m.\u001b[0m\u001b[0mreshape\u001b[0m\u001b[1;33m(\u001b[0m\u001b[1;36m3\u001b[0m\u001b[1;33m,\u001b[0m\u001b[1;36m4\u001b[0m\u001b[1;33m)\u001b[0m\u001b[1;33m\u001b[0m\u001b[1;33m\u001b[0m\u001b[0m\n\u001b[0m",
      "\u001b[1;31mValueError\u001b[0m: cannot reshape array of size 18 into shape (3,4)"
     ]
    }
   ],
   "source": [
    "### cannot reshape 18 elements into 12 elements\n",
    "\n",
    "sample_array=sample_array.reshape(3,4)"
   ]
  },
  {
   "cell_type": "code",
   "execution_count": 53,
   "id": "5c1629a1",
   "metadata": {},
   "outputs": [
    {
     "data": {
      "text/plain": [
       "array([[10, 11, 12, 13, 14, 15],\n",
       "       [16, 17, 18, 19, 20, 21],\n",
       "       [22, 23, 24, 25, 26, 27]])"
      ]
     },
     "execution_count": 53,
     "metadata": {},
     "output_type": "execute_result"
    }
   ],
   "source": [
    "sample_array"
   ]
  },
  {
   "cell_type": "code",
   "execution_count": 54,
   "id": "fbde4d5e",
   "metadata": {},
   "outputs": [
    {
     "data": {
      "text/plain": [
       "array([[10, 16, 22],\n",
       "       [11, 17, 23],\n",
       "       [12, 18, 24],\n",
       "       [13, 19, 25],\n",
       "       [14, 20, 26],\n",
       "       [15, 21, 27]])"
      ]
     },
     "execution_count": 54,
     "metadata": {},
     "output_type": "execute_result"
    }
   ],
   "source": [
    "## transpose of a matrix\n",
    "\n",
    "sample_array.T"
   ]
  },
  {
   "cell_type": "code",
   "execution_count": 56,
   "id": "d06efc42",
   "metadata": {},
   "outputs": [],
   "source": [
    "#Changing all the elements of a specific ROW\n",
    "# changing all the elements in row no.2 into 10\n",
    "\n",
    "sample_array[2]=10"
   ]
  },
  {
   "cell_type": "code",
   "execution_count": 57,
   "id": "cbcd7f4d",
   "metadata": {},
   "outputs": [
    {
     "data": {
      "text/plain": [
       "array([[10, 11, 12, 13, 14, 15],\n",
       "       [16, 17, 18, 19, 20, 21],\n",
       "       [10, 10, 10, 10, 10, 10]])"
      ]
     },
     "execution_count": 57,
     "metadata": {},
     "output_type": "execute_result"
    }
   ],
   "source": [
    "sample_array"
   ]
  },
  {
   "cell_type": "code",
   "execution_count": 58,
   "id": "c36f4b3a",
   "metadata": {},
   "outputs": [],
   "source": [
    "### changing all the elements in row 0 into 20\n",
    "\n",
    "sample_array[0]=20"
   ]
  },
  {
   "cell_type": "code",
   "execution_count": 59,
   "id": "b145f188",
   "metadata": {},
   "outputs": [
    {
     "data": {
      "text/plain": [
       "array([[20, 20, 20, 20, 20, 20],\n",
       "       [16, 17, 18, 19, 20, 21],\n",
       "       [10, 10, 10, 10, 10, 10]])"
      ]
     },
     "execution_count": 59,
     "metadata": {},
     "output_type": "execute_result"
    }
   ],
   "source": [
    "sample_array"
   ]
  },
  {
   "cell_type": "code",
   "execution_count": 60,
   "id": "77d8d668",
   "metadata": {},
   "outputs": [
    {
     "data": {
      "text/plain": [
       "array([10, 11, 12, 13, 14, 15, 16, 17, 18, 19, 20, 21, 22, 23, 24, 25, 26,\n",
       "       27, 28, 29, 30, 31, 32, 33, 34, 35, 36, 37, 38, 39, 40, 41, 42, 43,\n",
       "       44, 45, 46, 47, 48, 49, 50, 51, 52, 53, 54, 55, 56, 57, 58, 59, 60,\n",
       "       61, 62, 63, 64, 65, 66, 67, 68, 69, 70, 71, 72, 73, 74, 75, 76, 77,\n",
       "       78, 79, 80, 81, 82, 83, 84, 85, 86, 87, 88, 89, 90, 91, 92, 93, 94,\n",
       "       95, 96, 97, 98, 99])"
      ]
     },
     "execution_count": 60,
     "metadata": {},
     "output_type": "execute_result"
    }
   ],
   "source": [
    "sample_array=np.arange(10,100)\n",
    "sample_array"
   ]
  },
  {
   "cell_type": "code",
   "execution_count": 61,
   "id": "8237c743",
   "metadata": {},
   "outputs": [
    {
     "data": {
      "text/plain": [
       "array([11, 12, 13, 14, 15, 16, 17, 18, 19, 20, 21])"
      ]
     },
     "execution_count": 61,
     "metadata": {},
     "output_type": "execute_result"
    }
   ],
   "source": [
    "### printing few elements from the sample_array\n",
    "### [startindex:last index +1]\n",
    "\n",
    "sample_array[1:12]\n",
    "## from index 1 to index 11"
   ]
  },
  {
   "cell_type": "code",
   "execution_count": 62,
   "id": "a9b17d72",
   "metadata": {},
   "outputs": [
    {
     "data": {
      "text/plain": [
       "array([13, 14, 15, 16, 17, 18])"
      ]
     },
     "execution_count": 62,
     "metadata": {},
     "output_type": "execute_result"
    }
   ],
   "source": [
    "sample_array[3:9]\n",
    "## from index 3 to index 8"
   ]
  },
  {
   "cell_type": "code",
   "execution_count": 63,
   "id": "cb2ce871",
   "metadata": {},
   "outputs": [
    {
     "data": {
      "text/plain": [
       "array([10, 11, 12, 13, 14, 15, 16])"
      ]
     },
     "execution_count": 63,
     "metadata": {},
     "output_type": "execute_result"
    }
   ],
   "source": [
    "subset_sample_array=sample_array[0:7]\n",
    "subset_sample_array"
   ]
  },
  {
   "cell_type": "code",
   "execution_count": 64,
   "id": "38fcae9d",
   "metadata": {},
   "outputs": [
    {
     "data": {
      "text/plain": [
       "array([1001, 1001, 1001, 1001, 1001, 1001, 1001])"
      ]
     },
     "execution_count": 64,
     "metadata": {},
     "output_type": "execute_result"
    }
   ],
   "source": [
    "subset_sample_array[:]=1001\n",
    "subset_sample_array"
   ]
  },
  {
   "cell_type": "code",
   "execution_count": 65,
   "id": "e49885e6",
   "metadata": {},
   "outputs": [
    {
     "data": {
      "text/plain": [
       "array([1001, 1001, 1001, 1001, 1001, 1001, 1001,   17,   18,   19,   20,\n",
       "         21,   22,   23,   24,   25,   26,   27,   28,   29,   30,   31,\n",
       "         32,   33,   34,   35,   36,   37,   38,   39,   40,   41,   42,\n",
       "         43,   44,   45,   46,   47,   48,   49,   50,   51,   52,   53,\n",
       "         54,   55,   56,   57,   58,   59,   60,   61,   62,   63,   64,\n",
       "         65,   66,   67,   68,   69,   70,   71,   72,   73,   74,   75,\n",
       "         76,   77,   78,   79,   80,   81,   82,   83,   84,   85,   86,\n",
       "         87,   88,   89,   90,   91,   92,   93,   94,   95,   96,   97,\n",
       "         98,   99])"
      ]
     },
     "execution_count": 65,
     "metadata": {},
     "output_type": "execute_result"
    }
   ],
   "source": [
    "sample_array"
   ]
  },
  {
   "cell_type": "code",
   "execution_count": 66,
   "id": "42a093fe",
   "metadata": {},
   "outputs": [],
   "source": [
    "sample_array= np.arange(10,100)"
   ]
  },
  {
   "cell_type": "code",
   "execution_count": 67,
   "id": "cf0e1da1",
   "metadata": {},
   "outputs": [
    {
     "data": {
      "text/plain": [
       "array([10, 11, 12, 13, 14, 15, 16, 17, 18, 19, 20, 21, 22, 23, 24, 25, 26,\n",
       "       27, 28, 29, 30, 31, 32, 33, 34, 35, 36, 37, 38, 39, 40, 41, 42, 43,\n",
       "       44, 45, 46, 47, 48, 49, 50, 51, 52, 53, 54, 55, 56, 57, 58, 59, 60,\n",
       "       61, 62, 63, 64, 65, 66, 67, 68, 69, 70, 71, 72, 73, 74, 75, 76, 77,\n",
       "       78, 79, 80, 81, 82, 83, 84, 85, 86, 87, 88, 89, 90, 91, 92, 93, 94,\n",
       "       95, 96, 97, 98, 99])"
      ]
     },
     "execution_count": 67,
     "metadata": {},
     "output_type": "execute_result"
    }
   ],
   "source": [
    "sample_array"
   ]
  },
  {
   "cell_type": "code",
   "execution_count": null,
   "id": "1650bedc",
   "metadata": {},
   "outputs": [],
   "source": []
  },
  {
   "cell_type": "code",
   "execution_count": null,
   "id": "3f19d655",
   "metadata": {},
   "outputs": [],
   "source": []
  },
  {
   "cell_type": "code",
   "execution_count": null,
   "id": "aaa13bda",
   "metadata": {},
   "outputs": [],
   "source": []
  },
  {
   "cell_type": "code",
   "execution_count": null,
   "id": "dd283144",
   "metadata": {},
   "outputs": [],
   "source": []
  },
  {
   "cell_type": "code",
   "execution_count": null,
   "id": "1979cf97",
   "metadata": {},
   "outputs": [],
   "source": []
  },
  {
   "cell_type": "code",
   "execution_count": null,
   "id": "554278f6",
   "metadata": {},
   "outputs": [],
   "source": []
  },
  {
   "cell_type": "code",
   "execution_count": null,
   "id": "1419ceed",
   "metadata": {},
   "outputs": [],
   "source": []
  },
  {
   "cell_type": "code",
   "execution_count": null,
   "id": "55a86837",
   "metadata": {},
   "outputs": [],
   "source": []
  },
  {
   "cell_type": "code",
   "execution_count": null,
   "id": "0d01c5d2",
   "metadata": {},
   "outputs": [],
   "source": []
  },
  {
   "cell_type": "code",
   "execution_count": 72,
   "id": "5adaedc8",
   "metadata": {},
   "outputs": [
    {
     "data": {
      "text/plain": [
       "array([[31, 29, 44],\n",
       "       [62, 19, 65]])"
      ]
     },
     "execution_count": 72,
     "metadata": {},
     "output_type": "execute_result"
    }
   ],
   "source": [
    "sa=np.array([[31,29,44],[62,19,65]])\n",
    "sa "
   ]
  },
  {
   "cell_type": "code",
   "execution_count": 73,
   "id": "87e6ddb9",
   "metadata": {},
   "outputs": [
    {
     "data": {
      "text/plain": [
       "29"
      ]
     },
     "execution_count": 73,
     "metadata": {},
     "output_type": "execute_result"
    }
   ],
   "source": [
    "sa[0,1]"
   ]
  },
  {
   "cell_type": "code",
   "execution_count": 74,
   "id": "096ec179",
   "metadata": {},
   "outputs": [
    {
     "data": {
      "text/plain": [
       "array([31, 29, 44])"
      ]
     },
     "execution_count": 74,
     "metadata": {},
     "output_type": "execute_result"
    }
   ],
   "source": [
    "sa[0]"
   ]
  },
  {
   "cell_type": "code",
   "execution_count": 76,
   "id": "2c966793",
   "metadata": {},
   "outputs": [
    {
     "data": {
      "text/plain": [
       "array([62, 19, 65])"
      ]
     },
     "execution_count": 76,
     "metadata": {},
     "output_type": "execute_result"
    }
   ],
   "source": [
    "sa[1]"
   ]
  },
  {
   "cell_type": "code",
   "execution_count": 77,
   "id": "1e925210",
   "metadata": {},
   "outputs": [
    {
     "data": {
      "text/plain": [
       "array([62, 19, 65])"
      ]
     },
     "execution_count": 77,
     "metadata": {},
     "output_type": "execute_result"
    }
   ],
   "source": [
    "sa[-1]"
   ]
  },
  {
   "cell_type": "code",
   "execution_count": 78,
   "id": "b2f59ab6",
   "metadata": {},
   "outputs": [
    {
     "data": {
      "text/plain": [
       "29"
      ]
     },
     "execution_count": 78,
     "metadata": {},
     "output_type": "execute_result"
    }
   ],
   "source": [
    "sa[0][1]"
   ]
  },
  {
   "cell_type": "code",
   "execution_count": 81,
   "id": "e2477434",
   "metadata": {},
   "outputs": [],
   "source": [
    "aar=np.array([[2,6,8],[1,5,4],[4,3,2]])"
   ]
  },
  {
   "cell_type": "code",
   "execution_count": 82,
   "id": "4cb7d0e4",
   "metadata": {},
   "outputs": [
    {
     "data": {
      "text/plain": [
       "array([[2, 6, 8],\n",
       "       [1, 5, 4],\n",
       "       [4, 3, 2]])"
      ]
     },
     "execution_count": 82,
     "metadata": {},
     "output_type": "execute_result"
    }
   ],
   "source": [
    "aar"
   ]
  },
  {
   "cell_type": "code",
   "execution_count": 84,
   "id": "1cc655a6",
   "metadata": {},
   "outputs": [
    {
     "data": {
      "text/plain": [
       "array([6, 5, 3])"
      ]
     },
     "execution_count": 84,
     "metadata": {},
     "output_type": "execute_result"
    }
   ],
   "source": [
    "aar[:,1]"
   ]
  },
  {
   "cell_type": "code",
   "execution_count": 88,
   "id": "b5fc1a91",
   "metadata": {},
   "outputs": [
    {
     "data": {
      "text/plain": [
       "array([5, 4])"
      ]
     },
     "execution_count": 88,
     "metadata": {},
     "output_type": "execute_result"
    }
   ],
   "source": [
    "aar[1][1:]\n",
    "\n",
    "\n",
    "## also can be written as\n",
    "## aar[1,1:]"
   ]
  },
  {
   "cell_type": "code",
   "execution_count": 92,
   "id": "dbbe3483",
   "metadata": {},
   "outputs": [
    {
     "data": {
      "text/plain": [
       "array([[24, 13,  2, 15],\n",
       "       [15,  2, 54, 65],\n",
       "       [56, 76, 24,  7]])"
      ]
     },
     "execution_count": 92,
     "metadata": {},
     "output_type": "execute_result"
    }
   ],
   "source": [
    "ara=np.array(([24,13,2,15],[15,2,54,65],[56,76,24,7]))\n",
    "ara"
   ]
  },
  {
   "cell_type": "code",
   "execution_count": 93,
   "id": "3b0df4df",
   "metadata": {},
   "outputs": [
    {
     "data": {
      "text/plain": [
       "24"
      ]
     },
     "execution_count": 93,
     "metadata": {},
     "output_type": "execute_result"
    }
   ],
   "source": [
    "ara[2][2]"
   ]
  },
  {
   "cell_type": "code",
   "execution_count": 94,
   "id": "63a064d3",
   "metadata": {},
   "outputs": [
    {
     "data": {
      "text/plain": [
       "54"
      ]
     },
     "execution_count": 94,
     "metadata": {},
     "output_type": "execute_result"
    }
   ],
   "source": [
    "ara[1][2]"
   ]
  },
  {
   "cell_type": "code",
   "execution_count": 95,
   "id": "dcc2abbb",
   "metadata": {},
   "outputs": [
    {
     "data": {
      "text/plain": [
       "array([ 2, 54, 24])"
      ]
     },
     "execution_count": 95,
     "metadata": {},
     "output_type": "execute_result"
    }
   ],
   "source": [
    "ara[:,2]"
   ]
  },
  {
   "cell_type": "code",
   "execution_count": 96,
   "id": "2816ed9c",
   "metadata": {},
   "outputs": [
    {
     "data": {
      "text/plain": [
       "2"
      ]
     },
     "execution_count": 96,
     "metadata": {},
     "output_type": "execute_result"
    }
   ],
   "source": [
    "ara[1,1]"
   ]
  },
  {
   "cell_type": "code",
   "execution_count": 97,
   "id": "4a4ba100",
   "metadata": {},
   "outputs": [
    {
     "data": {
      "text/plain": [
       "array([[54, 65],\n",
       "       [24,  7]])"
      ]
     },
     "execution_count": 97,
     "metadata": {},
     "output_type": "execute_result"
    }
   ],
   "source": [
    "ara[1:3,2:4]"
   ]
  },
  {
   "cell_type": "code",
   "execution_count": 98,
   "id": "a3c6bad0",
   "metadata": {},
   "outputs": [
    {
     "data": {
      "text/plain": [
       "array([[54, 65],\n",
       "       [24,  7]])"
      ]
     },
     "execution_count": 98,
     "metadata": {},
     "output_type": "execute_result"
    }
   ],
   "source": [
    "ara[1:,2:]"
   ]
  },
  {
   "cell_type": "code",
   "execution_count": 99,
   "id": "00f1d173",
   "metadata": {},
   "outputs": [
    {
     "data": {
      "text/plain": [
       "array([56, 76, 24,  7])"
      ]
     },
     "execution_count": 99,
     "metadata": {},
     "output_type": "execute_result"
    }
   ],
   "source": [
    "ara[2]"
   ]
  },
  {
   "cell_type": "code",
   "execution_count": 100,
   "id": "a465125d",
   "metadata": {},
   "outputs": [],
   "source": [
    "arra=np.arange(1,31)"
   ]
  },
  {
   "cell_type": "code",
   "execution_count": 101,
   "id": "939b40ad",
   "metadata": {},
   "outputs": [
    {
     "data": {
      "text/plain": [
       "array([ 1,  2,  3,  4,  5,  6,  7,  8,  9, 10, 11, 12, 13, 14, 15, 16, 17,\n",
       "       18, 19, 20, 21, 22, 23, 24, 25, 26, 27, 28, 29, 30])"
      ]
     },
     "execution_count": 101,
     "metadata": {},
     "output_type": "execute_result"
    }
   ],
   "source": [
    "arra"
   ]
  },
  {
   "cell_type": "code",
   "execution_count": 102,
   "id": "30f20055",
   "metadata": {},
   "outputs": [
    {
     "data": {
      "text/plain": [
       "array([31, 32, 33, 34, 35, 36, 37, 38, 39, 40, 41, 42, 43, 44, 45, 46, 47,\n",
       "       48, 49, 50, 51, 52, 53, 54, 55, 56, 57, 58, 59, 60])"
      ]
     },
     "execution_count": 102,
     "metadata": {},
     "output_type": "execute_result"
    }
   ],
   "source": [
    "abc=np.arange(31,61)\n",
    "abc"
   ]
  },
  {
   "cell_type": "code",
   "execution_count": 103,
   "id": "505f9469",
   "metadata": {},
   "outputs": [
    {
     "data": {
      "text/plain": [
       "array([32, 34, 36, 38, 40, 42, 44, 46, 48, 50, 52, 54, 56, 58, 60, 62, 64,\n",
       "       66, 68, 70, 72, 74, 76, 78, 80, 82, 84, 86, 88, 90])"
      ]
     },
     "execution_count": 103,
     "metadata": {},
     "output_type": "execute_result"
    }
   ],
   "source": [
    "arra+abc"
   ]
  },
  {
   "cell_type": "code",
   "execution_count": 104,
   "id": "9fdd7421",
   "metadata": {},
   "outputs": [
    {
     "data": {
      "text/plain": [
       "array([ 1,  2,  3,  4,  5,  6,  7,  8,  9, 10, 11, 12, 13, 14, 15, 16, 17,\n",
       "       18, 19, 20, 21, 22, 23, 24, 25, 26, 27, 28, 29, 30])"
      ]
     },
     "execution_count": 104,
     "metadata": {},
     "output_type": "execute_result"
    }
   ],
   "source": [
    "arra"
   ]
  },
  {
   "cell_type": "code",
   "execution_count": 105,
   "id": "7f0bd65c",
   "metadata": {},
   "outputs": [],
   "source": [
    "mcq=arra+abc"
   ]
  },
  {
   "cell_type": "code",
   "execution_count": 106,
   "id": "a1aedeb8",
   "metadata": {},
   "outputs": [
    {
     "data": {
      "text/plain": [
       "array([32, 34, 36, 38, 40, 42, 44, 46, 48, 50, 52, 54, 56, 58, 60, 62, 64,\n",
       "       66, 68, 70, 72, 74, 76, 78, 80, 82, 84, 86, 88, 90])"
      ]
     },
     "execution_count": 106,
     "metadata": {},
     "output_type": "execute_result"
    }
   ],
   "source": [
    "mcq"
   ]
  },
  {
   "cell_type": "code",
   "execution_count": 107,
   "id": "403edbe6",
   "metadata": {},
   "outputs": [
    {
     "data": {
      "text/plain": [
       "array([2.71828183e+00, 7.38905610e+00, 2.00855369e+01, 5.45981500e+01,\n",
       "       1.48413159e+02, 4.03428793e+02, 1.09663316e+03, 2.98095799e+03,\n",
       "       8.10308393e+03, 2.20264658e+04, 5.98741417e+04, 1.62754791e+05,\n",
       "       4.42413392e+05, 1.20260428e+06, 3.26901737e+06, 8.88611052e+06,\n",
       "       2.41549528e+07, 6.56599691e+07, 1.78482301e+08, 4.85165195e+08,\n",
       "       1.31881573e+09, 3.58491285e+09, 9.74480345e+09, 2.64891221e+10,\n",
       "       7.20048993e+10, 1.95729609e+11, 5.32048241e+11, 1.44625706e+12,\n",
       "       3.93133430e+12, 1.06864746e+13])"
      ]
     },
     "execution_count": 107,
     "metadata": {},
     "output_type": "execute_result"
    }
   ],
   "source": [
    "np.exp(arra)"
   ]
  },
  {
   "cell_type": "code",
   "execution_count": 108,
   "id": "0103dbeb",
   "metadata": {},
   "outputs": [
    {
     "data": {
      "text/plain": [
       "array([1.        , 1.41421356, 1.73205081, 2.        , 2.23606798,\n",
       "       2.44948974, 2.64575131, 2.82842712, 3.        , 3.16227766,\n",
       "       3.31662479, 3.46410162, 3.60555128, 3.74165739, 3.87298335,\n",
       "       4.        , 4.12310563, 4.24264069, 4.35889894, 4.47213595,\n",
       "       4.58257569, 4.69041576, 4.79583152, 4.89897949, 5.        ,\n",
       "       5.09901951, 5.19615242, 5.29150262, 5.38516481, 5.47722558])"
      ]
     },
     "execution_count": 108,
     "metadata": {},
     "output_type": "execute_result"
    }
   ],
   "source": [
    "np.sqrt(arra)"
   ]
  },
  {
   "cell_type": "code",
   "execution_count": 109,
   "id": "42f2793f",
   "metadata": {},
   "outputs": [
    {
     "data": {
      "text/plain": [
       "array([0.        , 0.69314718, 1.09861229, 1.38629436, 1.60943791,\n",
       "       1.79175947, 1.94591015, 2.07944154, 2.19722458, 2.30258509,\n",
       "       2.39789527, 2.48490665, 2.56494936, 2.63905733, 2.7080502 ,\n",
       "       2.77258872, 2.83321334, 2.89037176, 2.94443898, 2.99573227,\n",
       "       3.04452244, 3.09104245, 3.13549422, 3.17805383, 3.21887582,\n",
       "       3.25809654, 3.29583687, 3.33220451, 3.36729583, 3.40119738])"
      ]
     },
     "execution_count": 109,
     "metadata": {},
     "output_type": "execute_result"
    }
   ],
   "source": [
    "np.log(arra)"
   ]
  },
  {
   "cell_type": "code",
   "execution_count": 110,
   "id": "1aca7c27",
   "metadata": {},
   "outputs": [
    {
     "data": {
      "text/plain": [
       "30"
      ]
     },
     "execution_count": 110,
     "metadata": {},
     "output_type": "execute_result"
    }
   ],
   "source": [
    "np.max(arra)"
   ]
  },
  {
   "cell_type": "code",
   "execution_count": 111,
   "id": "c66e8cdf",
   "metadata": {},
   "outputs": [
    {
     "data": {
      "text/plain": [
       "29"
      ]
     },
     "execution_count": 111,
     "metadata": {},
     "output_type": "execute_result"
    }
   ],
   "source": [
    "np.argmax(arra)"
   ]
  },
  {
   "cell_type": "code",
   "execution_count": 112,
   "id": "992b60c0",
   "metadata": {},
   "outputs": [
    {
     "data": {
      "text/plain": [
       "1"
      ]
     },
     "execution_count": 112,
     "metadata": {},
     "output_type": "execute_result"
    }
   ],
   "source": [
    "np.min(arra)"
   ]
  },
  {
   "cell_type": "code",
   "execution_count": 113,
   "id": "5a036a9c",
   "metadata": {},
   "outputs": [
    {
     "data": {
      "text/plain": [
       "0"
      ]
     },
     "execution_count": 113,
     "metadata": {},
     "output_type": "execute_result"
    }
   ],
   "source": [
    "np.argmin(arra)"
   ]
  },
  {
   "cell_type": "code",
   "execution_count": 114,
   "id": "d08a0df5",
   "metadata": {},
   "outputs": [
    {
     "data": {
      "text/plain": [
       "array([  1,   4,   9,  16,  25,  36,  49,  64,  81, 100, 121, 144, 169,\n",
       "       196, 225, 256, 289, 324, 361, 400, 441, 484, 529, 576, 625, 676,\n",
       "       729, 784, 841, 900], dtype=int32)"
      ]
     },
     "execution_count": 114,
     "metadata": {},
     "output_type": "execute_result"
    }
   ],
   "source": [
    "np.square(arra)"
   ]
  },
  {
   "cell_type": "code",
   "execution_count": 116,
   "id": "d338367f",
   "metadata": {},
   "outputs": [
    {
     "data": {
      "text/plain": [
       "8.65544144839919"
      ]
     },
     "execution_count": 116,
     "metadata": {},
     "output_type": "execute_result"
    }
   ],
   "source": [
    "### standard deviation\n",
    "\n",
    "np.std(arra)\n"
   ]
  },
  {
   "cell_type": "code",
   "execution_count": 117,
   "id": "eb360d9e",
   "metadata": {},
   "outputs": [
    {
     "data": {
      "text/plain": [
       "74.91666666666667"
      ]
     },
     "execution_count": 117,
     "metadata": {},
     "output_type": "execute_result"
    }
   ],
   "source": [
    "### variance\n",
    "\n",
    "np.var(arra)"
   ]
  },
  {
   "cell_type": "code",
   "execution_count": 118,
   "id": "04c56abf",
   "metadata": {},
   "outputs": [
    {
     "data": {
      "text/plain": [
       "15.5"
      ]
     },
     "execution_count": 118,
     "metadata": {},
     "output_type": "execute_result"
    }
   ],
   "source": [
    "###Mean\n",
    "\n",
    "np.mean(arra)"
   ]
  },
  {
   "cell_type": "code",
   "execution_count": 119,
   "id": "3d812d3b",
   "metadata": {},
   "outputs": [
    {
     "data": {
      "text/plain": [
       "array([[0.76013713, 0.6349509 , 0.1639125 , 0.97808283],\n",
       "       [0.44073032, 0.2913041 , 0.07742758, 0.10318398],\n",
       "       [0.52852985, 0.69567996, 0.53592796, 0.39154442]])"
      ]
     },
     "execution_count": 119,
     "metadata": {},
     "output_type": "execute_result"
    }
   ],
   "source": [
    "array=np.random.rand(3,4)\n",
    "array\n",
    "\n",
    "### normal distribution"
   ]
  },
  {
   "cell_type": "code",
   "execution_count": 120,
   "id": "a6a34f34",
   "metadata": {},
   "outputs": [
    {
     "data": {
      "text/plain": [
       "array([[0.76 , 0.635, 0.164, 0.978],\n",
       "       [0.441, 0.291, 0.077, 0.103],\n",
       "       [0.529, 0.696, 0.536, 0.392]])"
      ]
     },
     "execution_count": 120,
     "metadata": {},
     "output_type": "execute_result"
    }
   ],
   "source": [
    "np.round(array,decimals=3)\n",
    "\n",
    "## round off uptill specified decimals"
   ]
  },
  {
   "cell_type": "code",
   "execution_count": 121,
   "id": "6ba8e177",
   "metadata": {},
   "outputs": [
    {
     "data": {
      "text/plain": [
       "array(['basketball', 'cricket', 'football', 'golf'], dtype='<U10')"
      ]
     },
     "execution_count": 121,
     "metadata": {},
     "output_type": "execute_result"
    }
   ],
   "source": [
    "sports=np.array(['golf','cricket','football','basketball', 'cricket'])\n",
    "np.unique(sports)\n",
    "\n",
    "### elements are not repeated"
   ]
  },
  {
   "cell_type": "code",
   "execution_count": null,
   "id": "b409bce3",
   "metadata": {},
   "outputs": [],
   "source": []
  }
 ],
 "metadata": {
  "kernelspec": {
   "display_name": "Python 3",
   "language": "python",
   "name": "python3"
  },
  "language_info": {
   "codemirror_mode": {
    "name": "ipython",
    "version": 3
   },
   "file_extension": ".py",
   "mimetype": "text/x-python",
   "name": "python",
   "nbconvert_exporter": "python",
   "pygments_lexer": "ipython3",
   "version": "3.8.8"
  }
 },
 "nbformat": 4,
 "nbformat_minor": 5
}
